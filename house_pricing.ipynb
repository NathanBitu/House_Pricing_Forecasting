{
 "cells": [
  {
   "cell_type": "markdown",
   "metadata": {},
   "source": [
    "# House prices Time Forecasting"
   ]
  },
  {
   "cell_type": "markdown",
   "metadata": {},
   "source": [
    "## Importing Libraries"
   ]
  },
  {
   "cell_type": "code",
   "execution_count": 1,
   "metadata": {},
   "outputs": [],
   "source": [
    "import pandas as pd\n",
    "import numpy as np\n",
    "import matplotlib.pyplot as plt\n",
    "import seaborn as sns\n",
    "from datetime import datetime\n",
    "import matplotlib"
   ]
  },
  {
   "cell_type": "markdown",
   "metadata": {},
   "source": [
    "## Reading data"
   ]
  },
  {
   "cell_type": "code",
   "execution_count": 7,
   "metadata": {},
   "outputs": [
    {
     "data": {
      "text/html": [
       "<div>\n",
       "<style scoped>\n",
       "    .dataframe tbody tr th:only-of-type {\n",
       "        vertical-align: middle;\n",
       "    }\n",
       "\n",
       "    .dataframe tbody tr th {\n",
       "        vertical-align: top;\n",
       "    }\n",
       "\n",
       "    .dataframe thead th {\n",
       "        text-align: right;\n",
       "    }\n",
       "</style>\n",
       "<table border=\"1\" class=\"dataframe\">\n",
       "  <thead>\n",
       "    <tr style=\"text-align: right;\">\n",
       "      <th></th>\n",
       "      <th>datesold</th>\n",
       "      <th>postcode</th>\n",
       "      <th>price</th>\n",
       "      <th>propertyType</th>\n",
       "      <th>bedrooms</th>\n",
       "    </tr>\n",
       "  </thead>\n",
       "  <tbody>\n",
       "    <tr>\n",
       "      <th>0</th>\n",
       "      <td>2007-02-07 00:00:00</td>\n",
       "      <td>2607</td>\n",
       "      <td>525000</td>\n",
       "      <td>house</td>\n",
       "      <td>4</td>\n",
       "    </tr>\n",
       "    <tr>\n",
       "      <th>1</th>\n",
       "      <td>2007-02-27 00:00:00</td>\n",
       "      <td>2906</td>\n",
       "      <td>290000</td>\n",
       "      <td>house</td>\n",
       "      <td>3</td>\n",
       "    </tr>\n",
       "    <tr>\n",
       "      <th>2</th>\n",
       "      <td>2007-03-07 00:00:00</td>\n",
       "      <td>2905</td>\n",
       "      <td>328000</td>\n",
       "      <td>house</td>\n",
       "      <td>3</td>\n",
       "    </tr>\n",
       "    <tr>\n",
       "      <th>3</th>\n",
       "      <td>2007-03-09 00:00:00</td>\n",
       "      <td>2905</td>\n",
       "      <td>380000</td>\n",
       "      <td>house</td>\n",
       "      <td>4</td>\n",
       "    </tr>\n",
       "    <tr>\n",
       "      <th>4</th>\n",
       "      <td>2007-03-21 00:00:00</td>\n",
       "      <td>2906</td>\n",
       "      <td>310000</td>\n",
       "      <td>house</td>\n",
       "      <td>3</td>\n",
       "    </tr>\n",
       "  </tbody>\n",
       "</table>\n",
       "</div>"
      ],
      "text/plain": [
       "              datesold  postcode   price propertyType  bedrooms\n",
       "0  2007-02-07 00:00:00      2607  525000        house         4\n",
       "1  2007-02-27 00:00:00      2906  290000        house         3\n",
       "2  2007-03-07 00:00:00      2905  328000        house         3\n",
       "3  2007-03-09 00:00:00      2905  380000        house         4\n",
       "4  2007-03-21 00:00:00      2906  310000        house         3"
      ]
     },
     "execution_count": 7,
     "metadata": {},
     "output_type": "execute_result"
    }
   ],
   "source": [
    "raw_sales = pd.read_csv('Data\\house_sales.csv')\n",
    "raw_sales.head()"
   ]
  },
  {
   "cell_type": "markdown",
   "metadata": {},
   "source": [
    "## Creating all date features"
   ]
  },
  {
   "cell_type": "code",
   "execution_count": 8,
   "metadata": {},
   "outputs": [
    {
     "data": {
      "text/plain": [
       "3    11933\n",
       "4    10442\n",
       "2     3598\n",
       "5     1950\n",
       "1     1627\n",
       "0       30\n",
       "Name: bedrooms, dtype: int64"
      ]
     },
     "execution_count": 8,
     "metadata": {},
     "output_type": "execute_result"
    }
   ],
   "source": [
    "raw_sales.bedrooms.value_counts()"
   ]
  },
  {
   "cell_type": "code",
   "execution_count": 9,
   "metadata": {},
   "outputs": [
    {
     "data": {
      "text/html": [
       "<div>\n",
       "<style scoped>\n",
       "    .dataframe tbody tr th:only-of-type {\n",
       "        vertical-align: middle;\n",
       "    }\n",
       "\n",
       "    .dataframe tbody tr th {\n",
       "        vertical-align: top;\n",
       "    }\n",
       "\n",
       "    .dataframe thead th {\n",
       "        text-align: right;\n",
       "    }\n",
       "</style>\n",
       "<table border=\"1\" class=\"dataframe\">\n",
       "  <thead>\n",
       "    <tr style=\"text-align: right;\">\n",
       "      <th></th>\n",
       "      <th>datesold</th>\n",
       "      <th>postcode</th>\n",
       "      <th>price</th>\n",
       "      <th>propertyType</th>\n",
       "      <th>bedrooms</th>\n",
       "      <th>week</th>\n",
       "      <th>week_day</th>\n",
       "      <th>month</th>\n",
       "      <th>season</th>\n",
       "      <th>year</th>\n",
       "    </tr>\n",
       "  </thead>\n",
       "  <tbody>\n",
       "    <tr>\n",
       "      <th>0</th>\n",
       "      <td>2007-02-07</td>\n",
       "      <td>2607</td>\n",
       "      <td>525000</td>\n",
       "      <td>0</td>\n",
       "      <td>4</td>\n",
       "      <td>6</td>\n",
       "      <td>2</td>\n",
       "      <td>2</td>\n",
       "      <td>0</td>\n",
       "      <td>2007</td>\n",
       "    </tr>\n",
       "    <tr>\n",
       "      <th>1</th>\n",
       "      <td>2007-02-27</td>\n",
       "      <td>2906</td>\n",
       "      <td>290000</td>\n",
       "      <td>0</td>\n",
       "      <td>3</td>\n",
       "      <td>9</td>\n",
       "      <td>1</td>\n",
       "      <td>2</td>\n",
       "      <td>0</td>\n",
       "      <td>2007</td>\n",
       "    </tr>\n",
       "    <tr>\n",
       "      <th>2</th>\n",
       "      <td>2007-03-07</td>\n",
       "      <td>2905</td>\n",
       "      <td>328000</td>\n",
       "      <td>0</td>\n",
       "      <td>3</td>\n",
       "      <td>10</td>\n",
       "      <td>2</td>\n",
       "      <td>3</td>\n",
       "      <td>0</td>\n",
       "      <td>2007</td>\n",
       "    </tr>\n",
       "    <tr>\n",
       "      <th>3</th>\n",
       "      <td>2007-03-09</td>\n",
       "      <td>2905</td>\n",
       "      <td>380000</td>\n",
       "      <td>0</td>\n",
       "      <td>4</td>\n",
       "      <td>10</td>\n",
       "      <td>4</td>\n",
       "      <td>3</td>\n",
       "      <td>0</td>\n",
       "      <td>2007</td>\n",
       "    </tr>\n",
       "    <tr>\n",
       "      <th>4</th>\n",
       "      <td>2007-03-21</td>\n",
       "      <td>2906</td>\n",
       "      <td>310000</td>\n",
       "      <td>0</td>\n",
       "      <td>3</td>\n",
       "      <td>12</td>\n",
       "      <td>2</td>\n",
       "      <td>3</td>\n",
       "      <td>0</td>\n",
       "      <td>2007</td>\n",
       "    </tr>\n",
       "  </tbody>\n",
       "</table>\n",
       "</div>"
      ],
      "text/plain": [
       "    datesold  postcode   price  propertyType  bedrooms  week  week_day  month  \\\n",
       "0 2007-02-07      2607  525000             0         4     6         2      2   \n",
       "1 2007-02-27      2906  290000             0         3     9         1      2   \n",
       "2 2007-03-07      2905  328000             0         3    10         2      3   \n",
       "3 2007-03-09      2905  380000             0         4    10         4      3   \n",
       "4 2007-03-21      2906  310000             0         3    12         2      3   \n",
       "\n",
       "   season  year  \n",
       "0       0  2007  \n",
       "1       0  2007  \n",
       "2       0  2007  \n",
       "3       0  2007  \n",
       "4       0  2007  "
      ]
     },
     "execution_count": 9,
     "metadata": {},
     "output_type": "execute_result"
    }
   ],
   "source": [
    "raw_sales = raw_sales.loc[raw_sales['bedrooms'] != 0]\n",
    "raw_sales['datesold'] = pd.to_datetime(raw_sales['datesold'])\n",
    "raw_sales['week'] = raw_sales['datesold'].dt.isocalendar().week\n",
    "raw_sales['week_day'] = raw_sales['datesold'].dt.weekday\n",
    "raw_sales['month'] = raw_sales['datesold'].dt.month\n",
    "raw_sales['season'] = (raw_sales['datesold'].dt.month - 1)//3\n",
    "raw_sales['year'] = raw_sales['datesold'].dt.year\n",
    "raw_sales['propertyType']=raw_sales['propertyType'].replace(['house', 'unit'], [0,1])\n",
    "raw_sales.head()"
   ]
  },
  {
   "attachments": {},
   "cell_type": "markdown",
   "metadata": {},
   "source": [
    "## Looking at price distribution and applying logaritmic transformation to it"
   ]
  },
  {
   "cell_type": "code",
   "execution_count": 10,
   "metadata": {},
   "outputs": [
    {
     "data": {
      "image/png": "[encoded data removed]",
      "text/plain": [
       "<Figure size 432x288 with 1 Axes>"
      ]
     },
     "metadata": {
      "needs_background": "light"
     },
     "output_type": "display_data"
    }
   ],
   "source": [
    "ax = sns.boxplot(raw_sales['price']);"
   ]
  },
  {
   "cell_type": "code",
   "execution_count": 11,
   "metadata": {},
   "outputs": [
    {
     "data": {
      "image/png": "[encoded data removed]",
      "text/plain": [
       "<Figure size 432x288 with 1 Axes>"
      ]
     },
     "metadata": {
      "needs_background": "light"
     },
     "output_type": "display_data"
    }
   ],
   "source": [
    "raw_sales['price_trans'] = np.log(raw_sales['price'])\n",
    "\n",
    "ax = sns.boxplot(raw_sales['price_trans']);"
   ]
  },
  {
   "attachments": {},
   "cell_type": "markdown",
   "metadata": {},
   "source": [
    "### Exploratory data Analysis"
   ]
  },
  {
   "cell_type": "code",
   "execution_count": 13,
   "metadata": {},
   "outputs": [
    {
     "data": {
      "text/html": [
       "<div>\n",
       "<style scoped>\n",
       "    .dataframe tbody tr th:only-of-type {\n",
       "        vertical-align: middle;\n",
       "    }\n",
       "\n",
       "    .dataframe tbody tr th {\n",
       "        vertical-align: top;\n",
       "    }\n",
       "\n",
       "    .dataframe thead th {\n",
       "        text-align: right;\n",
       "    }\n",
       "</style>\n",
       "<table border=\"1\" class=\"dataframe\">\n",
       "  <thead>\n",
       "    <tr style=\"text-align: right;\">\n",
       "      <th></th>\n",
       "      <th>postcode</th>\n",
       "      <th>price</th>\n",
       "      <th>propertyType</th>\n",
       "      <th>bedrooms</th>\n",
       "      <th>week</th>\n",
       "      <th>week_day</th>\n",
       "      <th>month</th>\n",
       "      <th>season</th>\n",
       "      <th>year</th>\n",
       "      <th>price_trans</th>\n",
       "    </tr>\n",
       "  </thead>\n",
       "  <tbody>\n",
       "    <tr>\n",
       "      <th>count</th>\n",
       "      <td>29550.000000</td>\n",
       "      <td>2.955000e+04</td>\n",
       "      <td>29550.000000</td>\n",
       "      <td>29550.000000</td>\n",
       "      <td>29550.0</td>\n",
       "      <td>29550.000000</td>\n",
       "      <td>29550.000000</td>\n",
       "      <td>29550.000000</td>\n",
       "      <td>29550.000000</td>\n",
       "      <td>29550.000000</td>\n",
       "    </tr>\n",
       "    <tr>\n",
       "      <th>mean</th>\n",
       "      <td>2730.323621</td>\n",
       "      <td>6.098047e+05</td>\n",
       "      <td>0.169780</td>\n",
       "      <td>3.253469</td>\n",
       "      <td>27.485076</td>\n",
       "      <td>2.612047</td>\n",
       "      <td>6.715025</td>\n",
       "      <td>1.558308</td>\n",
       "      <td>2014.624907</td>\n",
       "      <td>13.244892</td>\n",
       "    </tr>\n",
       "    <tr>\n",
       "      <th>std</th>\n",
       "      <td>146.729215</td>\n",
       "      <td>2.817045e+05</td>\n",
       "      <td>0.375446</td>\n",
       "      <td>0.946101</td>\n",
       "      <td>14.683864</td>\n",
       "      <td>1.709251</td>\n",
       "      <td>3.379598</td>\n",
       "      <td>1.120435</td>\n",
       "      <td>2.964912</td>\n",
       "      <td>0.374879</td>\n",
       "    </tr>\n",
       "    <tr>\n",
       "      <th>min</th>\n",
       "      <td>2600.000000</td>\n",
       "      <td>5.650000e+04</td>\n",
       "      <td>0.000000</td>\n",
       "      <td>1.000000</td>\n",
       "      <td>1.0</td>\n",
       "      <td>0.000000</td>\n",
       "      <td>1.000000</td>\n",
       "      <td>0.000000</td>\n",
       "      <td>2007.000000</td>\n",
       "      <td>10.941996</td>\n",
       "    </tr>\n",
       "    <tr>\n",
       "      <th>25%</th>\n",
       "      <td>2607.000000</td>\n",
       "      <td>4.400000e+05</td>\n",
       "      <td>0.000000</td>\n",
       "      <td>3.000000</td>\n",
       "      <td>14.0</td>\n",
       "      <td>1.000000</td>\n",
       "      <td>4.000000</td>\n",
       "      <td>1.000000</td>\n",
       "      <td>2013.000000</td>\n",
       "      <td>12.994530</td>\n",
       "    </tr>\n",
       "    <tr>\n",
       "      <th>50%</th>\n",
       "      <td>2615.000000</td>\n",
       "      <td>5.500000e+05</td>\n",
       "      <td>0.000000</td>\n",
       "      <td>3.000000</td>\n",
       "      <td>27.0</td>\n",
       "      <td>3.000000</td>\n",
       "      <td>7.000000</td>\n",
       "      <td>2.000000</td>\n",
       "      <td>2015.000000</td>\n",
       "      <td>13.217674</td>\n",
       "    </tr>\n",
       "    <tr>\n",
       "      <th>75%</th>\n",
       "      <td>2905.000000</td>\n",
       "      <td>7.050000e+05</td>\n",
       "      <td>0.000000</td>\n",
       "      <td>4.000000</td>\n",
       "      <td>41.0</td>\n",
       "      <td>4.000000</td>\n",
       "      <td>10.000000</td>\n",
       "      <td>3.000000</td>\n",
       "      <td>2017.000000</td>\n",
       "      <td>13.465953</td>\n",
       "    </tr>\n",
       "    <tr>\n",
       "      <th>max</th>\n",
       "      <td>2914.000000</td>\n",
       "      <td>8.000000e+06</td>\n",
       "      <td>1.000000</td>\n",
       "      <td>5.000000</td>\n",
       "      <td>53.0</td>\n",
       "      <td>6.000000</td>\n",
       "      <td>12.000000</td>\n",
       "      <td>3.000000</td>\n",
       "      <td>2019.000000</td>\n",
       "      <td>15.894952</td>\n",
       "    </tr>\n",
       "  </tbody>\n",
       "</table>\n",
       "</div>"
      ],
      "text/plain": [
       "           postcode         price  propertyType      bedrooms       week  \\\n",
       "count  29550.000000  2.955000e+04  29550.000000  29550.000000    29550.0   \n",
       "mean    2730.323621  6.098047e+05      0.169780      3.253469  27.485076   \n",
       "std      146.729215  2.817045e+05      0.375446      0.946101  14.683864   \n",
       "min     2600.000000  5.650000e+04      0.000000      1.000000        1.0   \n",
       "25%     2607.000000  4.400000e+05      0.000000      3.000000       14.0   \n",
       "50%     2615.000000  5.500000e+05      0.000000      3.000000       27.0   \n",
       "75%     2905.000000  7.050000e+05      0.000000      4.000000       41.0   \n",
       "max     2914.000000  8.000000e+06      1.000000      5.000000       53.0   \n",
       "\n",
       "           week_day         month        season          year   price_trans  \n",
       "count  29550.000000  29550.000000  29550.000000  29550.000000  29550.000000  \n",
       "mean       2.612047      6.715025      1.558308   2014.624907     13.244892  \n",
       "std        1.709251      3.379598      1.120435      2.964912      0.374879  \n",
       "min        0.000000      1.000000      0.000000   2007.000000     10.941996  \n",
       "25%        1.000000      4.000000      1.000000   2013.000000     12.994530  \n",
       "50%        3.000000      7.000000      2.000000   2015.000000     13.217674  \n",
       "75%        4.000000     10.000000      3.000000   2017.000000     13.465953  \n",
       "max        6.000000     12.000000      3.000000   2019.000000     15.894952  "
      ]
     },
     "execution_count": 13,
     "metadata": {},
     "output_type": "execute_result"
    }
   ],
   "source": [
    "raw_sales.describe()"
   ]
  },
  {
   "cell_type": "code",
   "execution_count": 21,
   "metadata": {},
   "outputs": [
    {
     "data": {
      "image/png": "[encoded data removed]",
      "text/plain": [
       "<Figure size 720x576 with 1 Axes>"
      ]
     },
     "metadata": {
      "needs_background": "light"
     },
     "output_type": "display_data"
    }
   ],
   "source": [
    "plt.figure(figsize=(10,8))\n",
    "ax = sns.boxplot(x = 'bedrooms', y = 'price_trans', data = raw_sales)\n",
    "ax.set_title('Distribution of prices through quantity of bedrooms');"
   ]
  },
  {
   "cell_type": "code",
   "execution_count": 43,
   "metadata": {},
   "outputs": [
    {
     "name": "stderr",
     "output_type": "stream",
     "text": [
      "C:\\Users\\bitun\\AppData\\Local\\Temp\\ipykernel_16000\\395435257.py:2: FutureWarning: The default value of numeric_only in DataFrameGroupBy.mean is deprecated. In a future version, numeric_only will default to False. Either specify numeric_only or select only columns which should be valid for the function.\n",
      "  year_mean = raw_sales.groupby('year').mean().reset_index()\n"
     ]
    },
    {
     "data": {
      "image/png": "[encoded data removed]",
      "text/plain": [
       "<Figure size 720x576 with 1 Axes>"
      ]
     },
     "metadata": {
      "needs_background": "light"
     },
     "output_type": "display_data"
    }
   ],
   "source": [
    "plt.figure(figsize=(10,8))\n",
    "year_mean = raw_sales.groupby('year').mean().reset_index()\n",
    "ax = sns.barplot(x = 'year', y = 'price', data = year_mean)\n",
    "ax.set_title('Distribution of prices through quantity of bedrooms');"
   ]
  },
  {
   "cell_type": "code",
   "execution_count": 41,
   "metadata": {},
   "outputs": [
    {
     "name": "stderr",
     "output_type": "stream",
     "text": [
      "C:\\Users\\bitun\\AppData\\Local\\Temp\\ipykernel_16000\\1312415078.py:2: FutureWarning: The default value of numeric_only in DataFrameGroupBy.mean is deprecated. In a future version, numeric_only will default to False. Either specify numeric_only or select only columns which should be valid for the function.\n",
      "  month_mean = raw_sales.groupby('month').mean().reset_index()\n"
     ]
    },
    {
     "data": {
      "image/png": "[encoded data removed]",
      "text/plain": [
       "<Figure size 720x576 with 1 Axes>"
      ]
     },
     "metadata": {
      "needs_background": "light"
     },
     "output_type": "display_data"
    }
   ],
   "source": [
    "plt.figure(figsize=(10,8))\n",
    "month_mean = raw_sales.groupby('month').mean().reset_index()\n",
    "ax = sns.barplot(x = 'month', y = 'price', data = month_mean)\n",
    "ax.set_title('Distribution of prices through quantity of bedrooms');"
   ]
  },
  {
   "cell_type": "code",
   "execution_count": 39,
   "metadata": {},
   "outputs": [
    {
     "name": "stderr",
     "output_type": "stream",
     "text": [
      "C:\\Users\\bitun\\AppData\\Local\\Temp\\ipykernel_16000\\2463895743.py:2: FutureWarning: The default value of numeric_only in DataFrameGroupBy.mean is deprecated. In a future version, numeric_only will default to False. Either specify numeric_only or select only columns which should be valid for the function.\n",
      "  week_mean = raw_sales.groupby('week').mean().reset_index()\n"
     ]
    },
    {
     "data": {
      "image/png": "[encoded data removed]",
      "text/plain": [
       "<Figure size 936x576 with 1 Axes>"
      ]
     },
     "metadata": {
      "needs_background": "light"
     },
     "output_type": "display_data"
    }
   ],
   "source": [
    "plt.figure(figsize=(13,8))\n",
    "week_mean = raw_sales.groupby('week').mean().reset_index()\n",
    "ax = sns.barplot(x = 'week', y = 'price', data = week_mean)\n",
    "ax.set_title('Distribution of prices through quantity of bedrooms');"
   ]
  },
  {
   "cell_type": "code",
   "execution_count": 46,
   "metadata": {},
   "outputs": [
    {
     "name": "stderr",
     "output_type": "stream",
     "text": [
      "C:\\Users\\bitun\\AppData\\Local\\Temp\\ipykernel_16000\\1697468250.py:2: FutureWarning: The default value of numeric_only in DataFrameGroupBy.mean is deprecated. In a future version, numeric_only will default to False. Either specify numeric_only or select only columns which should be valid for the function.\n",
      "  week_day_mean = raw_sales.groupby('week_day').mean().reset_index()\n"
     ]
    },
    {
     "data": {
      "image/png": "[encoded data removed]",
      "text/plain": [
       "<Figure size 720x576 with 1 Axes>"
      ]
     },
     "metadata": {
      "needs_background": "light"
     },
     "output_type": "display_data"
    }
   ],
   "source": [
    "plt.figure(figsize=(10,8))\n",
    "week_day_mean = raw_sales.groupby('week_day').mean().reset_index()\n",
    "ax = sns.barplot(x = 'week_day', y = 'price', data = week_day_mean)\n",
    "ax.set_title('Distribution of prices through quantity of bedrooms');"
   ]
  },
  {
   "cell_type": "code",
   "execution_count": 48,
   "metadata": {},
   "outputs": [
    {
     "name": "stderr",
     "output_type": "stream",
     "text": [
      "C:\\Users\\bitun\\AppData\\Local\\Temp\\ipykernel_16000\\2512939209.py:2: FutureWarning: The default value of numeric_only in DataFrameGroupBy.mean is deprecated. In a future version, numeric_only will default to False. Either specify numeric_only or select only columns which should be valid for the function.\n",
      "  season_mean = raw_sales.groupby('season').mean().reset_index()\n"
     ]
    },
    {
     "data": {
      "image/png": "[encoded data removed]",
      "text/plain": [
       "<Figure size 720x576 with 1 Axes>"
      ]
     },
     "metadata": {
      "needs_background": "light"
     },
     "output_type": "display_data"
    }
   ],
   "source": [
    "plt.figure(figsize=(10,8))\n",
    "season_mean = raw_sales.groupby('season').mean().reset_index()\n",
    "ax = sns.barplot(x = 'season', y = 'price', data = season_mean)\n",
    "ax.set_title('Distribution of prices through quantity of bedrooms');"
   ]
  },
  {
   "cell_type": "code",
   "execution_count": 54,
   "metadata": {},
   "outputs": [
    {
     "name": "stderr",
     "output_type": "stream",
     "text": [
      "C:\\Users\\bitun\\AppData\\Local\\Temp\\ipykernel_16000\\2047153611.py:1: FutureWarning: The default value of numeric_only in DataFrame.corr is deprecated. In a future version, it will default to False. Select only valid columns or specify the value of numeric_only to silence this warning.\n",
      "  sns.barplot(x = 'price_trans', y= 'index' , data = raw_sales.corr()['price_trans'].reset_index().sort_values(ascending=False, by = 'price_trans'))\n"
     ]
    },
    {
     "data": {
      "text/plain": [
       "<AxesSubplot: xlabel='price_trans', ylabel='index'>"
      ]
     },
     "execution_count": 54,
     "metadata": {},
     "output_type": "execute_result"
    },
    {
     "data": {
      "image/png": "[encoded data removed]",
      "text/plain": [
       "<Figure size 432x288 with 1 Axes>"
      ]
     },
     "metadata": {
      "needs_background": "light"
     },
     "output_type": "display_data"
    }
   ],
   "source": [
    "sns.barplot(x = 'price_trans', y= 'index' , data = raw_sales.corr()['price_trans'].reset_index().sort_values(ascending=False, by = 'price_trans'))"
   ]
  },
  {
   "attachments": {},
   "cell_type": "markdown",
   "metadata": {},
   "source": [
    "## Separing data in training and testing data"
   ]
  },
  {
   "cell_type": "code",
   "execution_count": 72,
   "metadata": {},
   "outputs": [],
   "source": [
    "raw_sales.sort_values('datesold', ascending = True, inplace = True)\n",
    "raw_sales.week = raw_sales.week.astype('int')\n",
    "raw_sales.set_index('datesold', inplace = True)\n",
    "last_value = int(len(raw_sales) * 0.8)\n",
    "\n",
    "train_x = raw_sales.iloc[0:last_value].drop(['price', 'price_trans'], axis = 1)\n",
    "train_y = raw_sales.iloc[0:last_value]['price_trans']\n",
    "test_x = raw_sales.iloc[last_value:].drop(['price', 'price_trans'], axis = 1)\n",
    "test_y = raw_sales.iloc[last_value:]['price_trans']"
   ]
  },
  {
   "attachments": {},
   "cell_type": "markdown",
   "metadata": {},
   "source": [
    "## Creating the model and training"
   ]
  },
  {
   "cell_type": "code",
   "execution_count": 73,
   "metadata": {},
   "outputs": [
    {
     "data": {
      "text/plain": [
       "postcode        int64\n",
       "propertyType    int64\n",
       "bedrooms        int64\n",
       "week            int32\n",
       "week_day        int64\n",
       "month           int64\n",
       "season          int64\n",
       "year            int64\n",
       "dtype: object"
      ]
     },
     "execution_count": 73,
     "metadata": {},
     "output_type": "execute_result"
    }
   ],
   "source": [
    "train_x.dtypes"
   ]
  },
  {
   "cell_type": "code",
   "execution_count": 78,
   "metadata": {},
   "outputs": [
    {
     "name": "stdout",
     "output_type": "stream",
     "text": [
      "[0]\tvalidation_0-rmse:12.60541\tvalidation_1-rmse:12.69437\n",
      "[100]\tvalidation_0-rmse:4.62074\tvalidation_1-rmse:4.72834\n",
      "[200]\tvalidation_0-rmse:1.70388\tvalidation_1-rmse:1.78849\n",
      "[300]\tvalidation_0-rmse:0.65053\tvalidation_1-rmse:0.71130\n",
      "[400]\tvalidation_0-rmse:0.29505\tvalidation_1-rmse:0.33777\n",
      "[500]\tvalidation_0-rmse:0.20050\tvalidation_1-rmse:0.22949\n",
      "[600]\tvalidation_0-rmse:0.18156\tvalidation_1-rmse:0.20278\n",
      "[700]\tvalidation_0-rmse:0.17705\tvalidation_1-rmse:0.19584\n",
      "[800]\tvalidation_0-rmse:0.17513\tvalidation_1-rmse:0.19363\n",
      "[900]\tvalidation_0-rmse:0.17377\tvalidation_1-rmse:0.19276\n",
      "[1000]\tvalidation_0-rmse:0.17254\tvalidation_1-rmse:0.19250\n",
      "[1100]\tvalidation_0-rmse:0.17148\tvalidation_1-rmse:0.19241\n",
      "[1121]\tvalidation_0-rmse:0.17129\tvalidation_1-rmse:0.19242\n"
     ]
    }
   ],
   "source": [
    "from xgboost import XGBRegressor\n",
    "\n",
    "#params = {'learning_rate': 0.17487160702725146, 'loss': 'absolute_error', 'max_depth': 5, 'min_impurity_decrease': 0.9282174709047137, 'min_samples_leaf': 65, \n",
    "#          'min_samples_split': 33, 'n_estimators': 50, 'subsample': 0.7067241710796682}\n",
    "\n",
    "rfr = XGBRegressor(n_estimators=15000,\n",
    "                       early_stopping_rounds=50,\n",
    "                       learning_rate=0.01)\n",
    "rfr.fit(train_x, train_y,\n",
    "        eval_set=[(train_x, train_y), (test_x, test_y)],\n",
    "        verbose=100)\n",
    "\n",
    "y_pred = rfr.predict(test_x)"
   ]
  },
  {
   "cell_type": "code",
   "execution_count": 79,
   "metadata": {},
   "outputs": [
    {
     "name": "stdout",
     "output_type": "stream",
     "text": [
      "R²: 0.78\n",
      "MSE: 0.04\n",
      "RMSE: 0.19\n",
      "MAPE: 1.03%\n"
     ]
    }
   ],
   "source": [
    "from sklearn.metrics import mean_squared_error, mean_absolute_percentage_error\n",
    "\n",
    "mse = mean_squared_error(test_y, y_pred)\n",
    "mape = mean_absolute_percentage_error(test_y, y_pred)\n",
    "r2 = rfr.score(test_x, test_y)\n",
    "\n",
    "print(\"R²: %.2f\" % r2)\n",
    "print(\"MSE: %.2f\" % mse)\n",
    "print(\"RMSE: %.2f\" % (mse**(1/2.0)))\n",
    "print(\"MAPE: %.2f\" % (mape * 100) + '%')"
   ]
  },
  {
   "attachments": {},
   "cell_type": "markdown",
   "metadata": {},
   "source": [
    "## Evaluating the model"
   ]
  },
  {
   "cell_type": "code",
   "execution_count": 75,
   "metadata": {},
   "outputs": [
    {
     "data": {
      "text/html": [
       "<div>\n",
       "<style scoped>\n",
       "    .dataframe tbody tr th:only-of-type {\n",
       "        vertical-align: middle;\n",
       "    }\n",
       "\n",
       "    .dataframe tbody tr th {\n",
       "        vertical-align: top;\n",
       "    }\n",
       "\n",
       "    .dataframe thead th {\n",
       "        text-align: right;\n",
       "    }\n",
       "</style>\n",
       "<table border=\"1\" class=\"dataframe\">\n",
       "  <thead>\n",
       "    <tr style=\"text-align: right;\">\n",
       "      <th></th>\n",
       "      <th>postcode</th>\n",
       "      <th>price</th>\n",
       "      <th>propertyType</th>\n",
       "      <th>bedrooms</th>\n",
       "      <th>week</th>\n",
       "      <th>week_day</th>\n",
       "      <th>month</th>\n",
       "      <th>season</th>\n",
       "      <th>year</th>\n",
       "      <th>price_trans</th>\n",
       "      <th>predictions</th>\n",
       "      <th>price_prediction</th>\n",
       "      <th>error</th>\n",
       "      <th>%err</th>\n",
       "    </tr>\n",
       "    <tr>\n",
       "      <th>datesold</th>\n",
       "      <th></th>\n",
       "      <th></th>\n",
       "      <th></th>\n",
       "      <th></th>\n",
       "      <th></th>\n",
       "      <th></th>\n",
       "      <th></th>\n",
       "      <th></th>\n",
       "      <th></th>\n",
       "      <th></th>\n",
       "      <th></th>\n",
       "      <th></th>\n",
       "      <th></th>\n",
       "      <th></th>\n",
       "    </tr>\n",
       "  </thead>\n",
       "  <tbody>\n",
       "    <tr>\n",
       "      <th>2017-11-15</th>\n",
       "      <td>2615</td>\n",
       "      <td>730000</td>\n",
       "      <td>0</td>\n",
       "      <td>4</td>\n",
       "      <td>46</td>\n",
       "      <td>2</td>\n",
       "      <td>11</td>\n",
       "      <td>3</td>\n",
       "      <td>2017</td>\n",
       "      <td>13.500800</td>\n",
       "      <td>13.419314</td>\n",
       "      <td>672874.6875</td>\n",
       "      <td>57125.3125</td>\n",
       "      <td>0.078254</td>\n",
       "    </tr>\n",
       "    <tr>\n",
       "      <th>2017-11-15</th>\n",
       "      <td>2602</td>\n",
       "      <td>815000</td>\n",
       "      <td>0</td>\n",
       "      <td>3</td>\n",
       "      <td>46</td>\n",
       "      <td>2</td>\n",
       "      <td>11</td>\n",
       "      <td>3</td>\n",
       "      <td>2017</td>\n",
       "      <td>13.610943</td>\n",
       "      <td>13.570416</td>\n",
       "      <td>782630.8125</td>\n",
       "      <td>32369.1875</td>\n",
       "      <td>0.039717</td>\n",
       "    </tr>\n",
       "    <tr>\n",
       "      <th>2017-11-15</th>\n",
       "      <td>2611</td>\n",
       "      <td>710000</td>\n",
       "      <td>0</td>\n",
       "      <td>3</td>\n",
       "      <td>46</td>\n",
       "      <td>2</td>\n",
       "      <td>11</td>\n",
       "      <td>3</td>\n",
       "      <td>2017</td>\n",
       "      <td>13.473020</td>\n",
       "      <td>13.352667</td>\n",
       "      <td>629491.0000</td>\n",
       "      <td>80509.0000</td>\n",
       "      <td>0.113393</td>\n",
       "    </tr>\n",
       "    <tr>\n",
       "      <th>2017-11-15</th>\n",
       "      <td>2902</td>\n",
       "      <td>540000</td>\n",
       "      <td>0</td>\n",
       "      <td>3</td>\n",
       "      <td>46</td>\n",
       "      <td>2</td>\n",
       "      <td>11</td>\n",
       "      <td>3</td>\n",
       "      <td>2017</td>\n",
       "      <td>13.199324</td>\n",
       "      <td>13.175385</td>\n",
       "      <td>527226.0000</td>\n",
       "      <td>12774.0000</td>\n",
       "      <td>0.023656</td>\n",
       "    </tr>\n",
       "    <tr>\n",
       "      <th>2017-11-16</th>\n",
       "      <td>2615</td>\n",
       "      <td>600000</td>\n",
       "      <td>0</td>\n",
       "      <td>4</td>\n",
       "      <td>46</td>\n",
       "      <td>3</td>\n",
       "      <td>11</td>\n",
       "      <td>3</td>\n",
       "      <td>2017</td>\n",
       "      <td>13.304685</td>\n",
       "      <td>13.435431</td>\n",
       "      <td>683806.7500</td>\n",
       "      <td>83806.7500</td>\n",
       "      <td>0.139678</td>\n",
       "    </tr>\n",
       "  </tbody>\n",
       "</table>\n",
       "</div>"
      ],
      "text/plain": [
       "            postcode   price  propertyType  bedrooms  week  week_day  month  \\\n",
       "datesold                                                                      \n",
       "2017-11-15      2615  730000             0         4    46         2     11   \n",
       "2017-11-15      2602  815000             0         3    46         2     11   \n",
       "2017-11-15      2611  710000             0         3    46         2     11   \n",
       "2017-11-15      2902  540000             0         3    46         2     11   \n",
       "2017-11-16      2615  600000             0         4    46         3     11   \n",
       "\n",
       "            season  year  price_trans  predictions  price_prediction  \\\n",
       "datesold                                                               \n",
       "2017-11-15       3  2017    13.500800    13.419314       672874.6875   \n",
       "2017-11-15       3  2017    13.610943    13.570416       782630.8125   \n",
       "2017-11-15       3  2017    13.473020    13.352667       629491.0000   \n",
       "2017-11-15       3  2017    13.199324    13.175385       527226.0000   \n",
       "2017-11-16       3  2017    13.304685    13.435431       683806.7500   \n",
       "\n",
       "                 error      %err  \n",
       "datesold                          \n",
       "2017-11-15  57125.3125  0.078254  \n",
       "2017-11-15  32369.1875  0.039717  \n",
       "2017-11-15  80509.0000  0.113393  \n",
       "2017-11-15  12774.0000  0.023656  \n",
       "2017-11-16  83806.7500  0.139678  "
      ]
     },
     "execution_count": 75,
     "metadata": {},
     "output_type": "execute_result"
    }
   ],
   "source": [
    "test = raw_sales.iloc[last_value:].copy()\n",
    "test['predictions'] = rfr.predict(test_x)\n",
    "test['price_prediction'] = np.exp(test['predictions'])\n",
    "test['error'] = abs(test['price'] - test['price_prediction'])\n",
    "test['%err'] = abs((test['price_prediction'] / test['price']) - 1)\n",
    "test.head()"
   ]
  },
  {
   "cell_type": "code",
   "execution_count": 196,
   "metadata": {},
   "outputs": [
    {
     "data": {
      "text/plain": [
       "0.11211991981875283"
      ]
     },
     "execution_count": 196,
     "metadata": {},
     "output_type": "execute_result"
    }
   ],
   "source": [
    "test['%err'].mean()"
   ]
  },
  {
   "cell_type": "code",
   "execution_count": 80,
   "metadata": {},
   "outputs": [
    {
     "data": {
      "text/html": [
       "<div>\n",
       "<style scoped>\n",
       "    .dataframe tbody tr th:only-of-type {\n",
       "        vertical-align: middle;\n",
       "    }\n",
       "\n",
       "    .dataframe tbody tr th {\n",
       "        vertical-align: top;\n",
       "    }\n",
       "\n",
       "    .dataframe thead th {\n",
       "        text-align: right;\n",
       "    }\n",
       "</style>\n",
       "<table border=\"1\" class=\"dataframe\">\n",
       "  <thead>\n",
       "    <tr style=\"text-align: right;\">\n",
       "      <th></th>\n",
       "      <th>bedrooms</th>\n",
       "      <th>%err</th>\n",
       "    </tr>\n",
       "  </thead>\n",
       "  <tbody>\n",
       "    <tr>\n",
       "      <th>0</th>\n",
       "      <td>1</td>\n",
       "      <td>0.136119</td>\n",
       "    </tr>\n",
       "    <tr>\n",
       "      <th>1</th>\n",
       "      <td>2</td>\n",
       "      <td>0.154749</td>\n",
       "    </tr>\n",
       "    <tr>\n",
       "      <th>2</th>\n",
       "      <td>3</td>\n",
       "      <td>0.123712</td>\n",
       "    </tr>\n",
       "    <tr>\n",
       "      <th>3</th>\n",
       "      <td>4</td>\n",
       "      <td>0.142706</td>\n",
       "    </tr>\n",
       "    <tr>\n",
       "      <th>4</th>\n",
       "      <td>5</td>\n",
       "      <td>0.157480</td>\n",
       "    </tr>\n",
       "  </tbody>\n",
       "</table>\n",
       "</div>"
      ],
      "text/plain": [
       "   bedrooms      %err\n",
       "0         1  0.136119\n",
       "1         2  0.154749\n",
       "2         3  0.123712\n",
       "3         4  0.142706\n",
       "4         5  0.157480"
      ]
     },
     "execution_count": 80,
     "metadata": {},
     "output_type": "execute_result"
    }
   ],
   "source": [
    "test.groupby('bedrooms').mean()['%err'].reset_index()"
   ]
  },
  {
   "cell_type": "code",
   "execution_count": 81,
   "metadata": {},
   "outputs": [
    {
     "data": {
      "text/plain": [
       "<AxesSubplot: xlabel='datesold', ylabel='price'>"
      ]
     },
     "execution_count": 81,
     "metadata": {},
     "output_type": "execute_result"
    },
    {
     "data": {
      "image/png": "[encoded data removed]",
      "text/plain": [
       "<Figure size 432x288 with 1 Axes>"
      ]
     },
     "metadata": {
      "needs_background": "light"
     },
     "output_type": "display_data"
    }
   ],
   "source": [
    "sns.lineplot(x = 'datesold', y = 'price', data = test.loc[test['bedrooms'] == 1])\n",
    "sns.lineplot(x = 'datesold', y = 'price_prediction', data = test.loc[test['bedrooms'] == 1])\n",
    "#plt.legend(['Real', 'Predicted'])"
   ]
  },
  {
   "cell_type": "code",
   "execution_count": 82,
   "metadata": {},
   "outputs": [
    {
     "data": {
      "text/plain": [
       "<AxesSubplot: xlabel='%err', ylabel='price'>"
      ]
     },
     "execution_count": 82,
     "metadata": {},
     "output_type": "execute_result"
    },
    {
     "data": {
      "image/png": "[encoded data removed]",
      "text/plain": [
       "<Figure size 432x288 with 1 Axes>"
      ]
     },
     "metadata": {
      "needs_background": "light"
     },
     "output_type": "display_data"
    }
   ],
   "source": [
    "sns.scatterplot(x = '%err', y = 'price', data = test, hue = 'bedrooms')"
   ]
  },
  {
   "attachments": {},
   "cell_type": "markdown",
   "metadata": {},
   "source": [
    "## Hiperparameter tuning"
   ]
  },
  {
   "cell_type": "code",
   "execution_count": 83,
   "metadata": {},
   "outputs": [],
   "source": [
    "from sklearn.model_selection import RandomizedSearchCV\n",
    "from scipy.stats import uniform as sp_randFloat\n",
    "from scipy.stats import randint as sp_randInt"
   ]
  },
  {
   "cell_type": "code",
   "execution_count": 84,
   "metadata": {},
   "outputs": [],
   "source": [
    "parameters = {\n",
    "        'loss': ['squared_error', 'absolute_error'],\n",
    "        'learning_rate': sp_randFloat(),\n",
    "        'subsample'    : sp_randFloat(),\n",
    "        'n_estimators' : sp_randInt(100, 1000),\n",
    "        'max_depth'    : sp_randInt(4, 10),\n",
    "        \"n_estimators\":[5,50,250,500],\n",
    "        'min_impurity_decrease': sp_randFloat(),\n",
    "        'min_samples_leaf': sp_randInt(5,100),\n",
    "        'min_samples_split': sp_randInt(5,100)\n",
    "}"
   ]
  },
  {
   "cell_type": "code",
   "execution_count": 85,
   "metadata": {},
   "outputs": [
    {
     "ename": "ValueError",
     "evalue": "\nAll the 20 fits failed.\nIt is very likely that your model is misconfigured.\nYou can try to debug the error by setting error_score='raise'.\n\nBelow are more details about the failures:\n--------------------------------------------------------------------------------\n20 fits failed with the following error:\nTraceback (most recent call last):\n  File \"d:\\Anaconda\\envs\\teste\\lib\\site-packages\\sklearn\\model_selection\\_validation.py\", line 686, in _fit_and_score\n    estimator.fit(X_train, y_train, **fit_params)\n  File \"d:\\Anaconda\\envs\\teste\\lib\\site-packages\\xgboost\\core.py\", line 620, in inner_f\n    return func(**kwargs)\n  File \"d:\\Anaconda\\envs\\teste\\lib\\site-packages\\xgboost\\sklearn.py\", line 1025, in fit\n    self._Booster = train(\n  File \"d:\\Anaconda\\envs\\teste\\lib\\site-packages\\xgboost\\core.py\", line 620, in inner_f\n    return func(**kwargs)\n  File \"d:\\Anaconda\\envs\\teste\\lib\\site-packages\\xgboost\\training.py\", line 186, in train\n    if cb_container.after_iteration(bst, i, dtrain, evals):\n  File \"d:\\Anaconda\\envs\\teste\\lib\\site-packages\\xgboost\\callback.py\", line 247, in after_iteration\n    ret = any(c.after_iteration(model, epoch, self.history)\n  File \"d:\\Anaconda\\envs\\teste\\lib\\site-packages\\xgboost\\callback.py\", line 247, in <genexpr>\n    ret = any(c.after_iteration(model, epoch, self.history)\n  File \"d:\\Anaconda\\envs\\teste\\lib\\site-packages\\xgboost\\callback.py\", line 412, in after_iteration\n    assert len(evals_log.keys()) >= 1, msg\nAssertionError: Must have at least 1 validation dataset for early stopping.\n",
     "output_type": "error",
     "traceback": [
      "\u001b[1;31m---------------------------------------------------------------------------\u001b[0m",
      "\u001b[1;31mValueError\u001b[0m                                Traceback (most recent call last)",
      "\u001b[1;32md:\\Documents\\2 - Ciencia de dados\\Projetos\\House sales time-series\\House_Pricing_Forecasting\\house_pricing.ipynb Cell 36\u001b[0m in \u001b[0;36m<cell line: 3>\u001b[1;34m()\u001b[0m\n\u001b[0;32m      <a href='vscode-notebook-cell:/d%3A/Documents/2%20-%20Ciencia%20de%20dados/Projetos/House%20sales%20time-series/House_Pricing_Forecasting/house_pricing.ipynb#X40sZmlsZQ%3D%3D?line=0'>1</a>\u001b[0m randm_src \u001b[39m=\u001b[39m RandomizedSearchCV(estimator\u001b[39m=\u001b[39mrfr, param_distributions \u001b[39m=\u001b[39m parameters,\n\u001b[0;32m      <a href='vscode-notebook-cell:/d%3A/Documents/2%20-%20Ciencia%20de%20dados/Projetos/House%20sales%20time-series/House_Pricing_Forecasting/house_pricing.ipynb#X40sZmlsZQ%3D%3D?line=1'>2</a>\u001b[0m                                cv \u001b[39m=\u001b[39m \u001b[39m2\u001b[39m, n_iter \u001b[39m=\u001b[39m \u001b[39m10\u001b[39m, n_jobs\u001b[39m=\u001b[39m\u001b[39m-\u001b[39m\u001b[39m1\u001b[39m)\n\u001b[1;32m----> <a href='vscode-notebook-cell:/d%3A/Documents/2%20-%20Ciencia%20de%20dados/Projetos/House%20sales%20time-series/House_Pricing_Forecasting/house_pricing.ipynb#X40sZmlsZQ%3D%3D?line=2'>3</a>\u001b[0m randm_src\u001b[39m.\u001b[39;49mfit(train_x, train_y)\n\u001b[0;32m      <a href='vscode-notebook-cell:/d%3A/Documents/2%20-%20Ciencia%20de%20dados/Projetos/House%20sales%20time-series/House_Pricing_Forecasting/house_pricing.ipynb#X40sZmlsZQ%3D%3D?line=4'>5</a>\u001b[0m \u001b[39mprint\u001b[39m(\u001b[39m\"\u001b[39m\u001b[39m Results from Random Search \u001b[39m\u001b[39m\"\u001b[39m )\n\u001b[0;32m      <a href='vscode-notebook-cell:/d%3A/Documents/2%20-%20Ciencia%20de%20dados/Projetos/House%20sales%20time-series/House_Pricing_Forecasting/house_pricing.ipynb#X40sZmlsZQ%3D%3D?line=5'>6</a>\u001b[0m \u001b[39mprint\u001b[39m(\u001b[39m\"\u001b[39m\u001b[39m\\n\u001b[39;00m\u001b[39m The best estimator across ALL searched params:\u001b[39m\u001b[39m\\n\u001b[39;00m\u001b[39m\"\u001b[39m, randm_src\u001b[39m.\u001b[39mbest_estimator_)\n",
      "File \u001b[1;32md:\\Anaconda\\envs\\teste\\lib\\site-packages\\sklearn\\model_selection\\_search.py:875\u001b[0m, in \u001b[0;36mBaseSearchCV.fit\u001b[1;34m(self, X, y, groups, **fit_params)\u001b[0m\n\u001b[0;32m    869\u001b[0m     results \u001b[39m=\u001b[39m \u001b[39mself\u001b[39m\u001b[39m.\u001b[39m_format_results(\n\u001b[0;32m    870\u001b[0m         all_candidate_params, n_splits, all_out, all_more_results\n\u001b[0;32m    871\u001b[0m     )\n\u001b[0;32m    873\u001b[0m     \u001b[39mreturn\u001b[39;00m results\n\u001b[1;32m--> 875\u001b[0m \u001b[39mself\u001b[39;49m\u001b[39m.\u001b[39;49m_run_search(evaluate_candidates)\n\u001b[0;32m    877\u001b[0m \u001b[39m# multimetric is determined here because in the case of a callable\u001b[39;00m\n\u001b[0;32m    878\u001b[0m \u001b[39m# self.scoring the return type is only known after calling\u001b[39;00m\n\u001b[0;32m    879\u001b[0m first_test_score \u001b[39m=\u001b[39m all_out[\u001b[39m0\u001b[39m][\u001b[39m\"\u001b[39m\u001b[39mtest_scores\u001b[39m\u001b[39m\"\u001b[39m]\n",
      "File \u001b[1;32md:\\Anaconda\\envs\\teste\\lib\\site-packages\\sklearn\\model_selection\\_search.py:1753\u001b[0m, in \u001b[0;36mRandomizedSearchCV._run_search\u001b[1;34m(self, evaluate_candidates)\u001b[0m\n\u001b[0;32m   1751\u001b[0m \u001b[39mdef\u001b[39;00m \u001b[39m_run_search\u001b[39m(\u001b[39mself\u001b[39m, evaluate_candidates):\n\u001b[0;32m   1752\u001b[0m     \u001b[39m\"\"\"Search n_iter candidates from param_distributions\"\"\"\u001b[39;00m\n\u001b[1;32m-> 1753\u001b[0m     evaluate_candidates(\n\u001b[0;32m   1754\u001b[0m         ParameterSampler(\n\u001b[0;32m   1755\u001b[0m             \u001b[39mself\u001b[39;49m\u001b[39m.\u001b[39;49mparam_distributions, \u001b[39mself\u001b[39;49m\u001b[39m.\u001b[39;49mn_iter, random_state\u001b[39m=\u001b[39;49m\u001b[39mself\u001b[39;49m\u001b[39m.\u001b[39;49mrandom_state\n\u001b[0;32m   1756\u001b[0m         )\n\u001b[0;32m   1757\u001b[0m     )\n",
      "File \u001b[1;32md:\\Anaconda\\envs\\teste\\lib\\site-packages\\sklearn\\model_selection\\_search.py:852\u001b[0m, in \u001b[0;36mBaseSearchCV.fit.<locals>.evaluate_candidates\u001b[1;34m(candidate_params, cv, more_results)\u001b[0m\n\u001b[0;32m    845\u001b[0m \u001b[39melif\u001b[39;00m \u001b[39mlen\u001b[39m(out) \u001b[39m!=\u001b[39m n_candidates \u001b[39m*\u001b[39m n_splits:\n\u001b[0;32m    846\u001b[0m     \u001b[39mraise\u001b[39;00m \u001b[39mValueError\u001b[39;00m(\n\u001b[0;32m    847\u001b[0m         \u001b[39m\"\u001b[39m\u001b[39mcv.split and cv.get_n_splits returned \u001b[39m\u001b[39m\"\u001b[39m\n\u001b[0;32m    848\u001b[0m         \u001b[39m\"\u001b[39m\u001b[39minconsistent results. Expected \u001b[39m\u001b[39m{}\u001b[39;00m\u001b[39m \u001b[39m\u001b[39m\"\u001b[39m\n\u001b[0;32m    849\u001b[0m         \u001b[39m\"\u001b[39m\u001b[39msplits, got \u001b[39m\u001b[39m{}\u001b[39;00m\u001b[39m\"\u001b[39m\u001b[39m.\u001b[39mformat(n_splits, \u001b[39mlen\u001b[39m(out) \u001b[39m/\u001b[39m\u001b[39m/\u001b[39m n_candidates)\n\u001b[0;32m    850\u001b[0m     )\n\u001b[1;32m--> 852\u001b[0m _warn_or_raise_about_fit_failures(out, \u001b[39mself\u001b[39;49m\u001b[39m.\u001b[39;49merror_score)\n\u001b[0;32m    854\u001b[0m \u001b[39m# For callable self.scoring, the return type is only know after\u001b[39;00m\n\u001b[0;32m    855\u001b[0m \u001b[39m# calling. If the return type is a dictionary, the error scores\u001b[39;00m\n\u001b[0;32m    856\u001b[0m \u001b[39m# can now be inserted with the correct key. The type checking\u001b[39;00m\n\u001b[0;32m    857\u001b[0m \u001b[39m# of out will be done in `_insert_error_scores`.\u001b[39;00m\n\u001b[0;32m    858\u001b[0m \u001b[39mif\u001b[39;00m callable(\u001b[39mself\u001b[39m\u001b[39m.\u001b[39mscoring):\n",
      "File \u001b[1;32md:\\Anaconda\\envs\\teste\\lib\\site-packages\\sklearn\\model_selection\\_validation.py:367\u001b[0m, in \u001b[0;36m_warn_or_raise_about_fit_failures\u001b[1;34m(results, error_score)\u001b[0m\n\u001b[0;32m    360\u001b[0m \u001b[39mif\u001b[39;00m num_failed_fits \u001b[39m==\u001b[39m num_fits:\n\u001b[0;32m    361\u001b[0m     all_fits_failed_message \u001b[39m=\u001b[39m (\n\u001b[0;32m    362\u001b[0m         \u001b[39mf\u001b[39m\u001b[39m\"\u001b[39m\u001b[39m\\n\u001b[39;00m\u001b[39mAll the \u001b[39m\u001b[39m{\u001b[39;00mnum_fits\u001b[39m}\u001b[39;00m\u001b[39m fits failed.\u001b[39m\u001b[39m\\n\u001b[39;00m\u001b[39m\"\u001b[39m\n\u001b[0;32m    363\u001b[0m         \u001b[39m\"\u001b[39m\u001b[39mIt is very likely that your model is misconfigured.\u001b[39m\u001b[39m\\n\u001b[39;00m\u001b[39m\"\u001b[39m\n\u001b[0;32m    364\u001b[0m         \u001b[39m\"\u001b[39m\u001b[39mYou can try to debug the error by setting error_score=\u001b[39m\u001b[39m'\u001b[39m\u001b[39mraise\u001b[39m\u001b[39m'\u001b[39m\u001b[39m.\u001b[39m\u001b[39m\\n\u001b[39;00m\u001b[39m\\n\u001b[39;00m\u001b[39m\"\u001b[39m\n\u001b[0;32m    365\u001b[0m         \u001b[39mf\u001b[39m\u001b[39m\"\u001b[39m\u001b[39mBelow are more details about the failures:\u001b[39m\u001b[39m\\n\u001b[39;00m\u001b[39m{\u001b[39;00mfit_errors_summary\u001b[39m}\u001b[39;00m\u001b[39m\"\u001b[39m\n\u001b[0;32m    366\u001b[0m     )\n\u001b[1;32m--> 367\u001b[0m     \u001b[39mraise\u001b[39;00m \u001b[39mValueError\u001b[39;00m(all_fits_failed_message)\n\u001b[0;32m    369\u001b[0m \u001b[39melse\u001b[39;00m:\n\u001b[0;32m    370\u001b[0m     some_fits_failed_message \u001b[39m=\u001b[39m (\n\u001b[0;32m    371\u001b[0m         \u001b[39mf\u001b[39m\u001b[39m\"\u001b[39m\u001b[39m\\n\u001b[39;00m\u001b[39m{\u001b[39;00mnum_failed_fits\u001b[39m}\u001b[39;00m\u001b[39m fits failed out of a total of \u001b[39m\u001b[39m{\u001b[39;00mnum_fits\u001b[39m}\u001b[39;00m\u001b[39m.\u001b[39m\u001b[39m\\n\u001b[39;00m\u001b[39m\"\u001b[39m\n\u001b[0;32m    372\u001b[0m         \u001b[39m\"\u001b[39m\u001b[39mThe score on these train-test partitions for these parameters\u001b[39m\u001b[39m\"\u001b[39m\n\u001b[1;32m   (...)\u001b[0m\n\u001b[0;32m    376\u001b[0m         \u001b[39mf\u001b[39m\u001b[39m\"\u001b[39m\u001b[39mBelow are more details about the failures:\u001b[39m\u001b[39m\\n\u001b[39;00m\u001b[39m{\u001b[39;00mfit_errors_summary\u001b[39m}\u001b[39;00m\u001b[39m\"\u001b[39m\n\u001b[0;32m    377\u001b[0m     )\n",
      "\u001b[1;31mValueError\u001b[0m: \nAll the 20 fits failed.\nIt is very likely that your model is misconfigured.\nYou can try to debug the error by setting error_score='raise'.\n\nBelow are more details about the failures:\n--------------------------------------------------------------------------------\n20 fits failed with the following error:\nTraceback (most recent call last):\n  File \"d:\\Anaconda\\envs\\teste\\lib\\site-packages\\sklearn\\model_selection\\_validation.py\", line 686, in _fit_and_score\n    estimator.fit(X_train, y_train, **fit_params)\n  File \"d:\\Anaconda\\envs\\teste\\lib\\site-packages\\xgboost\\core.py\", line 620, in inner_f\n    return func(**kwargs)\n  File \"d:\\Anaconda\\envs\\teste\\lib\\site-packages\\xgboost\\sklearn.py\", line 1025, in fit\n    self._Booster = train(\n  File \"d:\\Anaconda\\envs\\teste\\lib\\site-packages\\xgboost\\core.py\", line 620, in inner_f\n    return func(**kwargs)\n  File \"d:\\Anaconda\\envs\\teste\\lib\\site-packages\\xgboost\\training.py\", line 186, in train\n    if cb_container.after_iteration(bst, i, dtrain, evals):\n  File \"d:\\Anaconda\\envs\\teste\\lib\\site-packages\\xgboost\\callback.py\", line 247, in after_iteration\n    ret = any(c.after_iteration(model, epoch, self.history)\n  File \"d:\\Anaconda\\envs\\teste\\lib\\site-packages\\xgboost\\callback.py\", line 247, in <genexpr>\n    ret = any(c.after_iteration(model, epoch, self.history)\n  File \"d:\\Anaconda\\envs\\teste\\lib\\site-packages\\xgboost\\callback.py\", line 412, in after_iteration\n    assert len(evals_log.keys()) >= 1, msg\nAssertionError: Must have at least 1 validation dataset for early stopping.\n"
     ]
    }
   ],
   "source": [
    "randm_src = RandomizedSearchCV(estimator=rfr, param_distributions = parameters,\n",
    "                               cv = 2, n_iter = 10, n_jobs=-1)\n",
    "randm_src.fit(train_x, train_y)\n",
    "\n",
    "print(\" Results from Random Search \" )\n",
    "print(\"\\n The best estimator across ALL searched params:\\n\", randm_src.best_estimator_)\n",
    "print(\"\\n The best score across ALL searched params:\\n\", randm_src.best_score_)\n",
    "print(\"\\n The best parameters across ALL searched params:\\n\", randm_src.best_params_)"
   ]
  },
  {
   "cell_type": "code",
   "execution_count": 203,
   "metadata": {},
   "outputs": [
    {
     "data": {
      "text/plain": [
       "0.6570856852128106"
      ]
     },
     "execution_count": 203,
     "metadata": {},
     "output_type": "execute_result"
    }
   ],
   "source": [
    "randm_src.best_estimator_.score(test_x, test_y)"
   ]
  },
  {
   "attachments": {},
   "cell_type": "markdown",
   "metadata": {},
   "source": [
    "## Making point-wise predictions"
   ]
  },
  {
   "cell_type": "code",
   "execution_count": 204,
   "metadata": {},
   "outputs": [
    {
     "data": {
      "text/plain": [
       "postcode               2615.0\n",
       "propertyType              0.0\n",
       "bedrooms                  4.0\n",
       "week                     30.0\n",
       "week_day                  5.0\n",
       "month                     7.0\n",
       "season                    2.0\n",
       "year                   2019.0\n",
       "seasonal          -140.327806\n",
       "trend           538166.666667\n",
       "Name: 2019-07-27 00:00:00, dtype: Float64"
      ]
     },
     "execution_count": 204,
     "metadata": {},
     "output_type": "execute_result"
    }
   ],
   "source": [
    "test_x.iloc[-2]"
   ]
  },
  {
   "cell_type": "code",
   "execution_count": 205,
   "metadata": {},
   "outputs": [
    {
     "data": {
      "text/plain": [
       "865000.0000000002"
      ]
     },
     "execution_count": 205,
     "metadata": {},
     "output_type": "execute_result"
    }
   ],
   "source": [
    "np.exp(test_y.iloc[-1])"
   ]
  },
  {
   "cell_type": "code",
   "execution_count": 206,
   "metadata": {},
   "outputs": [
    {
     "name": "stderr",
     "output_type": "stream",
     "text": [
      "d:\\Anaconda\\envs\\teste\\lib\\site-packages\\sklearn\\base.py:450: UserWarning: X does not have valid feature names, but GradientBoostingRegressor was fitted with feature names\n",
      "  warnings.warn(\n"
     ]
    },
    {
     "data": {
      "text/plain": [
       "array([645049.03894348])"
      ]
     },
     "execution_count": 206,
     "metadata": {},
     "output_type": "execute_result"
    }
   ],
   "source": [
    "np.exp(rfr.predict(np.array([[2905,0,5,30,5,7,2,2019,-140.32,538166.67]])))"
   ]
  },
  {
   "attachments": {},
   "cell_type": "markdown",
   "metadata": {},
   "source": [
    "## LSTM"
   ]
  },
  {
   "cell_type": "code",
   "execution_count": 3,
   "metadata": {},
   "outputs": [],
   "source": [
    "import tensorflow as tf\n",
    "from tensorflow.keras.models import Sequential\n",
    "from tensorflow.keras.layers import Dense, LSTM\n",
    "from sklearn.metrics import mean_squared_error"
   ]
  },
  {
   "cell_type": "code",
   "execution_count": 24,
   "metadata": {},
   "outputs": [
    {
     "data": {
      "text/plain": [
       "Index(['postcode', 'price', 'propertyType', 'bedrooms', 'week', 'week_day',\n",
       "       'month', 'season', 'year', 'price_trans', 'seasonal', 'trend'],\n",
       "      dtype='object')"
      ]
     },
     "execution_count": 24,
     "metadata": {},
     "output_type": "execute_result"
    }
   ],
   "source": [
    "raw_sales.columns"
   ]
  },
  {
   "cell_type": "code",
   "execution_count": 40,
   "metadata": {},
   "outputs": [],
   "source": [
    "time_steps = 1\n",
    "n_features = 10\n",
    "\n",
    "x = raw_sales.drop(['price', 'price_trans'], axis = 1)\n",
    "y = raw_sales['price_trans']\n",
    "\n",
    "x = x.reset_index().drop('datesold', axis = 1)\n",
    "\n",
    "# reshape the data\n",
    "num_samples = len(x)# - time_steps\n",
    "data = np.array(x)\n",
    "data = data.reshape((num_samples, n_features))\n",
    "\n",
    "last_training_point = int(len(x) * 0.97)\n",
    "x_train = x[:last_training_point]\n",
    "y_train = y[:last_training_point]\n",
    "x_test = x[last_training_point:]\n",
    "y_test = y[last_training_point:]\n",
    "# define the model\n",
    "model = Sequential()\n",
    "model.add(LSTM(10, input_shape=(time_steps, n_features)))\n",
    "model.add(Dense(1))\n",
    "\n",
    "# compile the model\n",
    "model.compile(optimizer='adam', loss='mean_squared_error')"
   ]
  },
  {
   "cell_type": "code",
   "execution_count": 42,
   "metadata": {},
   "outputs": [
    {
     "ename": "ValueError",
     "evalue": "Failed to convert a NumPy array to a Tensor (Unsupported object type int).",
     "output_type": "error",
     "traceback": [
      "\u001b[1;31m---------------------------------------------------------------------------\u001b[0m",
      "\u001b[1;31mValueError\u001b[0m                                Traceback (most recent call last)",
      "\u001b[1;32md:\\Documents\\2 - Ciencia de dados\\Projetos\\House sales time-series\\House_Pricing_Forecasting\\house_pricing.ipynb Cell 39\u001b[0m in \u001b[0;36m<cell line: 1>\u001b[1;34m()\u001b[0m\n\u001b[1;32m----> <a href='vscode-notebook-cell:/d%3A/Documents/2%20-%20Ciencia%20de%20dados/Projetos/House%20sales%20time-series/House_Pricing_Forecasting/house_pricing.ipynb#X52sZmlsZQ%3D%3D?line=0'>1</a>\u001b[0m model\u001b[39m.\u001b[39;49mfit(x_train, y_train)\n",
      "File \u001b[1;32md:\\Anaconda\\envs\\teste\\lib\\site-packages\\keras\\utils\\traceback_utils.py:70\u001b[0m, in \u001b[0;36mfilter_traceback.<locals>.error_handler\u001b[1;34m(*args, **kwargs)\u001b[0m\n\u001b[0;32m     67\u001b[0m     filtered_tb \u001b[39m=\u001b[39m _process_traceback_frames(e\u001b[39m.\u001b[39m__traceback__)\n\u001b[0;32m     68\u001b[0m     \u001b[39m# To get the full stack trace, call:\u001b[39;00m\n\u001b[0;32m     69\u001b[0m     \u001b[39m# `tf.debugging.disable_traceback_filtering()`\u001b[39;00m\n\u001b[1;32m---> 70\u001b[0m     \u001b[39mraise\u001b[39;00m e\u001b[39m.\u001b[39mwith_traceback(filtered_tb) \u001b[39mfrom\u001b[39;00m \u001b[39mNone\u001b[39m\n\u001b[0;32m     71\u001b[0m \u001b[39mfinally\u001b[39;00m:\n\u001b[0;32m     72\u001b[0m     \u001b[39mdel\u001b[39;00m filtered_tb\n",
      "File \u001b[1;32md:\\Anaconda\\envs\\teste\\lib\\site-packages\\tensorflow\\python\\framework\\constant_op.py:102\u001b[0m, in \u001b[0;36mconvert_to_eager_tensor\u001b[1;34m(value, ctx, dtype)\u001b[0m\n\u001b[0;32m    100\u001b[0m     dtype \u001b[39m=\u001b[39m dtypes\u001b[39m.\u001b[39mas_dtype(dtype)\u001b[39m.\u001b[39mas_datatype_enum\n\u001b[0;32m    101\u001b[0m ctx\u001b[39m.\u001b[39mensure_initialized()\n\u001b[1;32m--> 102\u001b[0m \u001b[39mreturn\u001b[39;00m ops\u001b[39m.\u001b[39;49mEagerTensor(value, ctx\u001b[39m.\u001b[39;49mdevice_name, dtype)\n",
      "\u001b[1;31mValueError\u001b[0m: Failed to convert a NumPy array to a Tensor (Unsupported object type int)."
     ]
    }
   ],
   "source": [
    "model.fit(x_train, y_train)"
   ]
  },
  {
   "cell_type": "code",
   "execution_count": 19,
   "metadata": {},
   "outputs": [],
   "source": [
    "X_train = tf.convert_to_tensor(train_x, dtype=tf.float32)\n",
    "y_train = tf.convert_to_tensor(train_y, dtype=tf.float32)\n",
    "X_test = tf.convert_to_tensor(test_x, dtype=tf.float32)\n",
    "y_test = tf.convert_to_tensor(test_y, dtype=tf.float32)"
   ]
  },
  {
   "cell_type": "code",
   "execution_count": null,
   "metadata": {},
   "outputs": [],
   "source": [
    "X_train"
   ]
  }
 ],
 "metadata": {
  "kernelspec": {
   "display_name": "Python 3 (ipykernel)",
   "language": "python",
   "name": "python3"
  },
  "language_info": {
   "codemirror_mode": {
    "name": "ipython",
    "version": 3
   },
   "file_extension": ".py",
   "mimetype": "text/x-python",
   "name": "python",
   "nbconvert_exporter": "python",
   "pygments_lexer": "ipython3",
   "version": "3.9.7"
  },
  "vscode": {
   "interpreter": {
    "hash": "1d837b323c6ce9aa7029450ef62e0f4a09705a988ce85c449a8b7105975c596a"
   }
  }
 },
 "nbformat": 4,
 "nbformat_minor": 2
}
