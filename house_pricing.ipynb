{
 "cells": [
  {
   "attachments": {},
   "cell_type": "markdown",
   "metadata": {},
   "source": [
    "# House prices Time Forecasting"
   ]
  },
  {
   "attachments": {},
   "cell_type": "markdown",
   "metadata": {},
   "source": [
    "## Importing Libraries"
   ]
  },
  {
   "cell_type": "code",
   "execution_count": 2,
   "metadata": {},
   "outputs": [],
   "source": [
    "import pandas as pd\n",
    "import numpy as np\n",
    "import matplotlib.pyplot as plt\n",
    "import seaborn as sns\n",
    "from datetime import datetime\n",
    "import matplotlib"
   ]
  },
  {
   "attachments": {},
   "cell_type": "markdown",
   "metadata": {},
   "source": [
    "## Reading data"
   ]
  },
  {
   "cell_type": "code",
   "execution_count": 3,
   "metadata": {},
   "outputs": [
    {
     "data": {
      "text/html": [
       "<div>\n",
       "<style scoped>\n",
       "    .dataframe tbody tr th:only-of-type {\n",
       "        vertical-align: middle;\n",
       "    }\n",
       "\n",
       "    .dataframe tbody tr th {\n",
       "        vertical-align: top;\n",
       "    }\n",
       "\n",
       "    .dataframe thead th {\n",
       "        text-align: right;\n",
       "    }\n",
       "</style>\n",
       "<table border=\"1\" class=\"dataframe\">\n",
       "  <thead>\n",
       "    <tr style=\"text-align: right;\">\n",
       "      <th></th>\n",
       "      <th>datesold</th>\n",
       "      <th>postcode</th>\n",
       "      <th>price</th>\n",
       "      <th>propertyType</th>\n",
       "      <th>bedrooms</th>\n",
       "    </tr>\n",
       "  </thead>\n",
       "  <tbody>\n",
       "    <tr>\n",
       "      <th>0</th>\n",
       "      <td>2007-02-07 00:00:00</td>\n",
       "      <td>2607</td>\n",
       "      <td>525000</td>\n",
       "      <td>house</td>\n",
       "      <td>4</td>\n",
       "    </tr>\n",
       "    <tr>\n",
       "      <th>1</th>\n",
       "      <td>2007-02-27 00:00:00</td>\n",
       "      <td>2906</td>\n",
       "      <td>290000</td>\n",
       "      <td>house</td>\n",
       "      <td>3</td>\n",
       "    </tr>\n",
       "    <tr>\n",
       "      <th>2</th>\n",
       "      <td>2007-03-07 00:00:00</td>\n",
       "      <td>2905</td>\n",
       "      <td>328000</td>\n",
       "      <td>house</td>\n",
       "      <td>3</td>\n",
       "    </tr>\n",
       "    <tr>\n",
       "      <th>3</th>\n",
       "      <td>2007-03-09 00:00:00</td>\n",
       "      <td>2905</td>\n",
       "      <td>380000</td>\n",
       "      <td>house</td>\n",
       "      <td>4</td>\n",
       "    </tr>\n",
       "    <tr>\n",
       "      <th>4</th>\n",
       "      <td>2007-03-21 00:00:00</td>\n",
       "      <td>2906</td>\n",
       "      <td>310000</td>\n",
       "      <td>house</td>\n",
       "      <td>3</td>\n",
       "    </tr>\n",
       "  </tbody>\n",
       "</table>\n",
       "</div>"
      ],
      "text/plain": [
       "              datesold  postcode   price propertyType  bedrooms\n",
       "0  2007-02-07 00:00:00      2607  525000        house         4\n",
       "1  2007-02-27 00:00:00      2906  290000        house         3\n",
       "2  2007-03-07 00:00:00      2905  328000        house         3\n",
       "3  2007-03-09 00:00:00      2905  380000        house         4\n",
       "4  2007-03-21 00:00:00      2906  310000        house         3"
      ]
     },
     "execution_count": 3,
     "metadata": {},
     "output_type": "execute_result"
    }
   ],
   "source": [
    "raw_sales = pd.read_csv('Data\\house_sales.csv')\n",
    "raw_sales.head()"
   ]
  },
  {
   "attachments": {},
   "cell_type": "markdown",
   "metadata": {},
   "source": [
    "## Creating all date features"
   ]
  },
  {
   "cell_type": "code",
   "execution_count": 4,
   "metadata": {},
   "outputs": [
    {
     "data": {
      "text/plain": [
       "3    11933\n",
       "4    10442\n",
       "2     3598\n",
       "5     1950\n",
       "1     1627\n",
       "0       30\n",
       "Name: bedrooms, dtype: int64"
      ]
     },
     "execution_count": 4,
     "metadata": {},
     "output_type": "execute_result"
    }
   ],
   "source": [
    "raw_sales.bedrooms.value_counts()"
   ]
  },
  {
   "cell_type": "code",
   "execution_count": 5,
   "metadata": {},
   "outputs": [
    {
     "data": {
      "text/html": [
       "<div>\n",
       "<style scoped>\n",
       "    .dataframe tbody tr th:only-of-type {\n",
       "        vertical-align: middle;\n",
       "    }\n",
       "\n",
       "    .dataframe tbody tr th {\n",
       "        vertical-align: top;\n",
       "    }\n",
       "\n",
       "    .dataframe thead th {\n",
       "        text-align: right;\n",
       "    }\n",
       "</style>\n",
       "<table border=\"1\" class=\"dataframe\">\n",
       "  <thead>\n",
       "    <tr style=\"text-align: right;\">\n",
       "      <th></th>\n",
       "      <th>datesold</th>\n",
       "      <th>postcode</th>\n",
       "      <th>price</th>\n",
       "      <th>propertyType</th>\n",
       "      <th>bedrooms</th>\n",
       "      <th>week</th>\n",
       "      <th>week_day</th>\n",
       "      <th>month</th>\n",
       "      <th>season</th>\n",
       "      <th>year</th>\n",
       "    </tr>\n",
       "  </thead>\n",
       "  <tbody>\n",
       "    <tr>\n",
       "      <th>0</th>\n",
       "      <td>2007-02-07</td>\n",
       "      <td>2607</td>\n",
       "      <td>525000</td>\n",
       "      <td>0</td>\n",
       "      <td>4</td>\n",
       "      <td>6</td>\n",
       "      <td>2</td>\n",
       "      <td>2</td>\n",
       "      <td>0</td>\n",
       "      <td>2007</td>\n",
       "    </tr>\n",
       "    <tr>\n",
       "      <th>1</th>\n",
       "      <td>2007-02-27</td>\n",
       "      <td>2906</td>\n",
       "      <td>290000</td>\n",
       "      <td>0</td>\n",
       "      <td>3</td>\n",
       "      <td>9</td>\n",
       "      <td>1</td>\n",
       "      <td>2</td>\n",
       "      <td>0</td>\n",
       "      <td>2007</td>\n",
       "    </tr>\n",
       "    <tr>\n",
       "      <th>2</th>\n",
       "      <td>2007-03-07</td>\n",
       "      <td>2905</td>\n",
       "      <td>328000</td>\n",
       "      <td>0</td>\n",
       "      <td>3</td>\n",
       "      <td>10</td>\n",
       "      <td>2</td>\n",
       "      <td>3</td>\n",
       "      <td>0</td>\n",
       "      <td>2007</td>\n",
       "    </tr>\n",
       "    <tr>\n",
       "      <th>3</th>\n",
       "      <td>2007-03-09</td>\n",
       "      <td>2905</td>\n",
       "      <td>380000</td>\n",
       "      <td>0</td>\n",
       "      <td>4</td>\n",
       "      <td>10</td>\n",
       "      <td>4</td>\n",
       "      <td>3</td>\n",
       "      <td>0</td>\n",
       "      <td>2007</td>\n",
       "    </tr>\n",
       "    <tr>\n",
       "      <th>4</th>\n",
       "      <td>2007-03-21</td>\n",
       "      <td>2906</td>\n",
       "      <td>310000</td>\n",
       "      <td>0</td>\n",
       "      <td>3</td>\n",
       "      <td>12</td>\n",
       "      <td>2</td>\n",
       "      <td>3</td>\n",
       "      <td>0</td>\n",
       "      <td>2007</td>\n",
       "    </tr>\n",
       "  </tbody>\n",
       "</table>\n",
       "</div>"
      ],
      "text/plain": [
       "    datesold  postcode   price  propertyType  bedrooms  week  week_day  month  \\\n",
       "0 2007-02-07      2607  525000             0         4     6         2      2   \n",
       "1 2007-02-27      2906  290000             0         3     9         1      2   \n",
       "2 2007-03-07      2905  328000             0         3    10         2      3   \n",
       "3 2007-03-09      2905  380000             0         4    10         4      3   \n",
       "4 2007-03-21      2906  310000             0         3    12         2      3   \n",
       "\n",
       "   season  year  \n",
       "0       0  2007  \n",
       "1       0  2007  \n",
       "2       0  2007  \n",
       "3       0  2007  \n",
       "4       0  2007  "
      ]
     },
     "execution_count": 5,
     "metadata": {},
     "output_type": "execute_result"
    }
   ],
   "source": [
    "raw_sales = raw_sales.loc[raw_sales['bedrooms'] != 0]\n",
    "raw_sales['datesold'] = pd.to_datetime(raw_sales['datesold'])\n",
    "raw_sales['week'] = raw_sales['datesold'].dt.isocalendar().week\n",
    "raw_sales['week_day'] = raw_sales['datesold'].dt.weekday\n",
    "raw_sales['month'] = raw_sales['datesold'].dt.month\n",
    "raw_sales['season'] = (raw_sales['datesold'].dt.month - 1)//3\n",
    "raw_sales['year'] = raw_sales['datesold'].dt.year\n",
    "raw_sales['propertyType']=raw_sales['propertyType'].replace(['house', 'unit'], [0,1])\n",
    "raw_sales.head()"
   ]
  },
  {
   "attachments": {},
   "cell_type": "markdown",
   "metadata": {},
   "source": [
    "## Looking at price distribution and applying logaritmic transformation to it"
   ]
  },
  {
   "cell_type": "code",
   "execution_count": 6,
   "metadata": {},
   "outputs": [
    {
     "data": {
      "image/png": "[encoded data removed]",
      "text/plain": [
       "<Figure size 432x288 with 1 Axes>"
      ]
     },
     "metadata": {
      "needs_background": "light"
     },
     "output_type": "display_data"
    }
   ],
   "source": [
    "ax = sns.boxplot(raw_sales['price']);"
   ]
  },
  {
   "cell_type": "code",
   "execution_count": 7,
   "metadata": {},
   "outputs": [
    {
     "data": {
      "image/png": "[encoded data removed]",
      "text/plain": [
       "<Figure size 432x288 with 1 Axes>"
      ]
     },
     "metadata": {
      "needs_background": "light"
     },
     "output_type": "display_data"
    }
   ],
   "source": [
    "raw_sales['price_trans'] = np.log(raw_sales['price'])\n",
    "\n",
    "ax = sns.boxplot(raw_sales['price_trans']);"
   ]
  },
  {
   "attachments": {},
   "cell_type": "markdown",
   "metadata": {},
   "source": [
    "### Exploratory Data Analysis"
   ]
  },
  {
   "cell_type": "code",
   "execution_count": 8,
   "metadata": {},
   "outputs": [
    {
     "data": {
      "text/html": [
       "<div>\n",
       "<style scoped>\n",
       "    .dataframe tbody tr th:only-of-type {\n",
       "        vertical-align: middle;\n",
       "    }\n",
       "\n",
       "    .dataframe tbody tr th {\n",
       "        vertical-align: top;\n",
       "    }\n",
       "\n",
       "    .dataframe thead th {\n",
       "        text-align: right;\n",
       "    }\n",
       "</style>\n",
       "<table border=\"1\" class=\"dataframe\">\n",
       "  <thead>\n",
       "    <tr style=\"text-align: right;\">\n",
       "      <th></th>\n",
       "      <th>postcode</th>\n",
       "      <th>price</th>\n",
       "      <th>propertyType</th>\n",
       "      <th>bedrooms</th>\n",
       "      <th>week</th>\n",
       "      <th>week_day</th>\n",
       "      <th>month</th>\n",
       "      <th>season</th>\n",
       "      <th>year</th>\n",
       "      <th>price_trans</th>\n",
       "    </tr>\n",
       "  </thead>\n",
       "  <tbody>\n",
       "    <tr>\n",
       "      <th>count</th>\n",
       "      <td>29550.000000</td>\n",
       "      <td>2.955000e+04</td>\n",
       "      <td>29550.000000</td>\n",
       "      <td>29550.000000</td>\n",
       "      <td>29550.0</td>\n",
       "      <td>29550.000000</td>\n",
       "      <td>29550.000000</td>\n",
       "      <td>29550.000000</td>\n",
       "      <td>29550.000000</td>\n",
       "      <td>29550.000000</td>\n",
       "    </tr>\n",
       "    <tr>\n",
       "      <th>mean</th>\n",
       "      <td>2730.323621</td>\n",
       "      <td>6.098047e+05</td>\n",
       "      <td>0.169780</td>\n",
       "      <td>3.253469</td>\n",
       "      <td>27.485076</td>\n",
       "      <td>2.612047</td>\n",
       "      <td>6.715025</td>\n",
       "      <td>1.558308</td>\n",
       "      <td>2014.624907</td>\n",
       "      <td>13.244892</td>\n",
       "    </tr>\n",
       "    <tr>\n",
       "      <th>std</th>\n",
       "      <td>146.729215</td>\n",
       "      <td>2.817045e+05</td>\n",
       "      <td>0.375446</td>\n",
       "      <td>0.946101</td>\n",
       "      <td>14.683864</td>\n",
       "      <td>1.709251</td>\n",
       "      <td>3.379598</td>\n",
       "      <td>1.120435</td>\n",
       "      <td>2.964912</td>\n",
       "      <td>0.374879</td>\n",
       "    </tr>\n",
       "    <tr>\n",
       "      <th>min</th>\n",
       "      <td>2600.000000</td>\n",
       "      <td>5.650000e+04</td>\n",
       "      <td>0.000000</td>\n",
       "      <td>1.000000</td>\n",
       "      <td>1.0</td>\n",
       "      <td>0.000000</td>\n",
       "      <td>1.000000</td>\n",
       "      <td>0.000000</td>\n",
       "      <td>2007.000000</td>\n",
       "      <td>10.941996</td>\n",
       "    </tr>\n",
       "    <tr>\n",
       "      <th>25%</th>\n",
       "      <td>2607.000000</td>\n",
       "      <td>4.400000e+05</td>\n",
       "      <td>0.000000</td>\n",
       "      <td>3.000000</td>\n",
       "      <td>14.0</td>\n",
       "      <td>1.000000</td>\n",
       "      <td>4.000000</td>\n",
       "      <td>1.000000</td>\n",
       "      <td>2013.000000</td>\n",
       "      <td>12.994530</td>\n",
       "    </tr>\n",
       "    <tr>\n",
       "      <th>50%</th>\n",
       "      <td>2615.000000</td>\n",
       "      <td>5.500000e+05</td>\n",
       "      <td>0.000000</td>\n",
       "      <td>3.000000</td>\n",
       "      <td>27.0</td>\n",
       "      <td>3.000000</td>\n",
       "      <td>7.000000</td>\n",
       "      <td>2.000000</td>\n",
       "      <td>2015.000000</td>\n",
       "      <td>13.217674</td>\n",
       "    </tr>\n",
       "    <tr>\n",
       "      <th>75%</th>\n",
       "      <td>2905.000000</td>\n",
       "      <td>7.050000e+05</td>\n",
       "      <td>0.000000</td>\n",
       "      <td>4.000000</td>\n",
       "      <td>41.0</td>\n",
       "      <td>4.000000</td>\n",
       "      <td>10.000000</td>\n",
       "      <td>3.000000</td>\n",
       "      <td>2017.000000</td>\n",
       "      <td>13.465953</td>\n",
       "    </tr>\n",
       "    <tr>\n",
       "      <th>max</th>\n",
       "      <td>2914.000000</td>\n",
       "      <td>8.000000e+06</td>\n",
       "      <td>1.000000</td>\n",
       "      <td>5.000000</td>\n",
       "      <td>53.0</td>\n",
       "      <td>6.000000</td>\n",
       "      <td>12.000000</td>\n",
       "      <td>3.000000</td>\n",
       "      <td>2019.000000</td>\n",
       "      <td>15.894952</td>\n",
       "    </tr>\n",
       "  </tbody>\n",
       "</table>\n",
       "</div>"
      ],
      "text/plain": [
       "           postcode         price  propertyType      bedrooms       week  \\\n",
       "count  29550.000000  2.955000e+04  29550.000000  29550.000000    29550.0   \n",
       "mean    2730.323621  6.098047e+05      0.169780      3.253469  27.485076   \n",
       "std      146.729215  2.817045e+05      0.375446      0.946101  14.683864   \n",
       "min     2600.000000  5.650000e+04      0.000000      1.000000        1.0   \n",
       "25%     2607.000000  4.400000e+05      0.000000      3.000000       14.0   \n",
       "50%     2615.000000  5.500000e+05      0.000000      3.000000       27.0   \n",
       "75%     2905.000000  7.050000e+05      0.000000      4.000000       41.0   \n",
       "max     2914.000000  8.000000e+06      1.000000      5.000000       53.0   \n",
       "\n",
       "           week_day         month        season          year   price_trans  \n",
       "count  29550.000000  29550.000000  29550.000000  29550.000000  29550.000000  \n",
       "mean       2.612047      6.715025      1.558308   2014.624907     13.244892  \n",
       "std        1.709251      3.379598      1.120435      2.964912      0.374879  \n",
       "min        0.000000      1.000000      0.000000   2007.000000     10.941996  \n",
       "25%        1.000000      4.000000      1.000000   2013.000000     12.994530  \n",
       "50%        3.000000      7.000000      2.000000   2015.000000     13.217674  \n",
       "75%        4.000000     10.000000      3.000000   2017.000000     13.465953  \n",
       "max        6.000000     12.000000      3.000000   2019.000000     15.894952  "
      ]
     },
     "execution_count": 8,
     "metadata": {},
     "output_type": "execute_result"
    }
   ],
   "source": [
    "raw_sales.describe()"
   ]
  },
  {
   "cell_type": "code",
   "execution_count": 9,
   "metadata": {},
   "outputs": [
    {
     "data": {
      "image/png": "[encoded data removed]",
      "text/plain": [
       "<Figure size 720x576 with 1 Axes>"
      ]
     },
     "metadata": {
      "needs_background": "light"
     },
     "output_type": "display_data"
    }
   ],
   "source": [
    "plt.figure(figsize=(10,8))\n",
    "ax = sns.boxplot(x = 'bedrooms', y = 'price_trans', data = raw_sales)\n",
    "ax.set_title('Distribution of prices through quantity of bedrooms');"
   ]
  },
  {
   "cell_type": "code",
   "execution_count": 10,
   "metadata": {},
   "outputs": [
    {
     "name": "stderr",
     "output_type": "stream",
     "text": [
      "C:\\Users\\bitun\\AppData\\Local\\Temp\\ipykernel_14368\\395435257.py:2: FutureWarning: The default value of numeric_only in DataFrameGroupBy.mean is deprecated. In a future version, numeric_only will default to False. Either specify numeric_only or select only columns which should be valid for the function.\n",
      "  year_mean = raw_sales.groupby('year').mean().reset_index()\n"
     ]
    },
    {
     "data": {
      "image/png": "[encoded data removed]",
      "text/plain": [
       "<Figure size 720x576 with 1 Axes>"
      ]
     },
     "metadata": {
      "needs_background": "light"
     },
     "output_type": "display_data"
    }
   ],
   "source": [
    "plt.figure(figsize=(10,8))\n",
    "year_mean = raw_sales.groupby('year').mean().reset_index()\n",
    "ax = sns.barplot(x = 'year', y = 'price', data = year_mean)\n",
    "ax.set_title('Distribution of prices through quantity of bedrooms');"
   ]
  },
  {
   "cell_type": "code",
   "execution_count": 11,
   "metadata": {},
   "outputs": [
    {
     "name": "stderr",
     "output_type": "stream",
     "text": [
      "C:\\Users\\bitun\\AppData\\Local\\Temp\\ipykernel_14368\\1312415078.py:2: FutureWarning: The default value of numeric_only in DataFrameGroupBy.mean is deprecated. In a future version, numeric_only will default to False. Either specify numeric_only or select only columns which should be valid for the function.\n",
      "  month_mean = raw_sales.groupby('month').mean().reset_index()\n"
     ]
    },
    {
     "data": {
      "image/png": "[encoded data removed]",
      "text/plain": [
       "<Figure size 720x576 with 1 Axes>"
      ]
     },
     "metadata": {
      "needs_background": "light"
     },
     "output_type": "display_data"
    }
   ],
   "source": [
    "plt.figure(figsize=(10,8))\n",
    "month_mean = raw_sales.groupby('month').mean().reset_index()\n",
    "ax = sns.barplot(x = 'month', y = 'price', data = month_mean)\n",
    "ax.set_title('Distribution of prices through quantity of bedrooms');"
   ]
  },
  {
   "cell_type": "code",
   "execution_count": 12,
   "metadata": {},
   "outputs": [
    {
     "name": "stderr",
     "output_type": "stream",
     "text": [
      "C:\\Users\\bitun\\AppData\\Local\\Temp\\ipykernel_14368\\2463895743.py:2: FutureWarning: The default value of numeric_only in DataFrameGroupBy.mean is deprecated. In a future version, numeric_only will default to False. Either specify numeric_only or select only columns which should be valid for the function.\n",
      "  week_mean = raw_sales.groupby('week').mean().reset_index()\n"
     ]
    },
    {
     "data": {
      "image/png": "[encoded data removed]",
      "text/plain": [
       "<Figure size 936x576 with 1 Axes>"
      ]
     },
     "metadata": {
      "needs_background": "light"
     },
     "output_type": "display_data"
    }
   ],
   "source": [
    "plt.figure(figsize=(13,8))\n",
    "week_mean = raw_sales.groupby('week').mean().reset_index()\n",
    "ax = sns.barplot(x = 'week', y = 'price', data = week_mean)\n",
    "ax.set_title('Distribution of prices through quantity of bedrooms');"
   ]
  },
  {
   "cell_type": "code",
   "execution_count": 13,
   "metadata": {},
   "outputs": [
    {
     "name": "stderr",
     "output_type": "stream",
     "text": [
      "C:\\Users\\bitun\\AppData\\Local\\Temp\\ipykernel_14368\\1697468250.py:2: FutureWarning: The default value of numeric_only in DataFrameGroupBy.mean is deprecated. In a future version, numeric_only will default to False. Either specify numeric_only or select only columns which should be valid for the function.\n",
      "  week_day_mean = raw_sales.groupby('week_day').mean().reset_index()\n"
     ]
    },
    {
     "data": {
      "image/png": "[encoded data removed]",
      "text/plain": [
       "<Figure size 720x576 with 1 Axes>"
      ]
     },
     "metadata": {
      "needs_background": "light"
     },
     "output_type": "display_data"
    }
   ],
   "source": [
    "plt.figure(figsize=(10,8))\n",
    "week_day_mean = raw_sales.groupby('week_day').mean().reset_index()\n",
    "ax = sns.barplot(x = 'week_day', y = 'price', data = week_day_mean)\n",
    "ax.set_title('Distribution of prices through quantity of bedrooms');"
   ]
  },
  {
   "cell_type": "code",
   "execution_count": 14,
   "metadata": {},
   "outputs": [
    {
     "name": "stderr",
     "output_type": "stream",
     "text": [
      "C:\\Users\\bitun\\AppData\\Local\\Temp\\ipykernel_14368\\2512939209.py:2: FutureWarning: The default value of numeric_only in DataFrameGroupBy.mean is deprecated. In a future version, numeric_only will default to False. Either specify numeric_only or select only columns which should be valid for the function.\n",
      "  season_mean = raw_sales.groupby('season').mean().reset_index()\n"
     ]
    },
    {
     "data": {
      "image/png": "[encoded data removed]",
      "text/plain": [
       "<Figure size 720x576 with 1 Axes>"
      ]
     },
     "metadata": {
      "needs_background": "light"
     },
     "output_type": "display_data"
    }
   ],
   "source": [
    "plt.figure(figsize=(10,8))\n",
    "season_mean = raw_sales.groupby('season').mean().reset_index()\n",
    "ax = sns.barplot(x = 'season', y = 'price', data = season_mean)\n",
    "ax.set_title('Distribution of prices through quantity of bedrooms');"
   ]
  },
  {
   "cell_type": "code",
   "execution_count": 15,
   "metadata": {},
   "outputs": [
    {
     "name": "stderr",
     "output_type": "stream",
     "text": [
      "C:\\Users\\bitun\\AppData\\Local\\Temp\\ipykernel_14368\\1407085352.py:1: FutureWarning: The default value of numeric_only in DataFrame.corr is deprecated. In a future version, it will default to False. Select only valid columns or specify the value of numeric_only to silence this warning.\n",
      "  sns.barplot(x = 'price_trans', y= 'index' , data = raw_sales.corr()['price_trans'].reset_index().sort_values(ascending=False, by = 'price_trans'));\n"
     ]
    },
    {
     "data": {
      "image/png": "[encoded data removed]",
      "text/plain": [
       "<Figure size 432x288 with 1 Axes>"
      ]
     },
     "metadata": {
      "needs_background": "light"
     },
     "output_type": "display_data"
    }
   ],
   "source": [
    "sns.barplot(x = 'price_trans', y= 'index' , data = raw_sales.corr()['price_trans'].reset_index().sort_values(ascending=False, by = 'price_trans'));"
   ]
  },
  {
   "attachments": {},
   "cell_type": "markdown",
   "metadata": {},
   "source": [
    "## Separing data in training and testing data"
   ]
  },
  {
   "cell_type": "code",
   "execution_count": 17,
   "metadata": {},
   "outputs": [
    {
     "data": {
      "text/html": [
       "<div>\n",
       "<style scoped>\n",
       "    .dataframe tbody tr th:only-of-type {\n",
       "        vertical-align: middle;\n",
       "    }\n",
       "\n",
       "    .dataframe tbody tr th {\n",
       "        vertical-align: top;\n",
       "    }\n",
       "\n",
       "    .dataframe thead th {\n",
       "        text-align: right;\n",
       "    }\n",
       "</style>\n",
       "<table border=\"1\" class=\"dataframe\">\n",
       "  <thead>\n",
       "    <tr style=\"text-align: right;\">\n",
       "      <th></th>\n",
       "      <th>datesold</th>\n",
       "      <th>postcode</th>\n",
       "      <th>price</th>\n",
       "      <th>propertyType</th>\n",
       "      <th>bedrooms</th>\n",
       "      <th>week</th>\n",
       "      <th>week_day</th>\n",
       "      <th>month</th>\n",
       "      <th>season</th>\n",
       "      <th>year</th>\n",
       "      <th>price_trans</th>\n",
       "    </tr>\n",
       "  </thead>\n",
       "  <tbody>\n",
       "    <tr>\n",
       "      <th>0</th>\n",
       "      <td>2007-02-07</td>\n",
       "      <td>2607</td>\n",
       "      <td>525000</td>\n",
       "      <td>0</td>\n",
       "      <td>4</td>\n",
       "      <td>6</td>\n",
       "      <td>2</td>\n",
       "      <td>2</td>\n",
       "      <td>0</td>\n",
       "      <td>2007</td>\n",
       "      <td>13.171154</td>\n",
       "    </tr>\n",
       "    <tr>\n",
       "      <th>1</th>\n",
       "      <td>2007-02-27</td>\n",
       "      <td>2906</td>\n",
       "      <td>290000</td>\n",
       "      <td>0</td>\n",
       "      <td>3</td>\n",
       "      <td>9</td>\n",
       "      <td>1</td>\n",
       "      <td>2</td>\n",
       "      <td>0</td>\n",
       "      <td>2007</td>\n",
       "      <td>12.577636</td>\n",
       "    </tr>\n",
       "    <tr>\n",
       "      <th>2</th>\n",
       "      <td>2007-03-07</td>\n",
       "      <td>2905</td>\n",
       "      <td>328000</td>\n",
       "      <td>0</td>\n",
       "      <td>3</td>\n",
       "      <td>10</td>\n",
       "      <td>2</td>\n",
       "      <td>3</td>\n",
       "      <td>0</td>\n",
       "      <td>2007</td>\n",
       "      <td>12.700769</td>\n",
       "    </tr>\n",
       "    <tr>\n",
       "      <th>3</th>\n",
       "      <td>2007-03-09</td>\n",
       "      <td>2905</td>\n",
       "      <td>380000</td>\n",
       "      <td>0</td>\n",
       "      <td>4</td>\n",
       "      <td>10</td>\n",
       "      <td>4</td>\n",
       "      <td>3</td>\n",
       "      <td>0</td>\n",
       "      <td>2007</td>\n",
       "      <td>12.847927</td>\n",
       "    </tr>\n",
       "    <tr>\n",
       "      <th>4</th>\n",
       "      <td>2007-03-21</td>\n",
       "      <td>2906</td>\n",
       "      <td>310000</td>\n",
       "      <td>0</td>\n",
       "      <td>3</td>\n",
       "      <td>12</td>\n",
       "      <td>2</td>\n",
       "      <td>3</td>\n",
       "      <td>0</td>\n",
       "      <td>2007</td>\n",
       "      <td>12.644328</td>\n",
       "    </tr>\n",
       "    <tr>\n",
       "      <th>...</th>\n",
       "      <td>...</td>\n",
       "      <td>...</td>\n",
       "      <td>...</td>\n",
       "      <td>...</td>\n",
       "      <td>...</td>\n",
       "      <td>...</td>\n",
       "      <td>...</td>\n",
       "      <td>...</td>\n",
       "      <td>...</td>\n",
       "      <td>...</td>\n",
       "      <td>...</td>\n",
       "    </tr>\n",
       "    <tr>\n",
       "      <th>29575</th>\n",
       "      <td>2019-07-25</td>\n",
       "      <td>2900</td>\n",
       "      <td>500000</td>\n",
       "      <td>1</td>\n",
       "      <td>3</td>\n",
       "      <td>30</td>\n",
       "      <td>3</td>\n",
       "      <td>7</td>\n",
       "      <td>2</td>\n",
       "      <td>2019</td>\n",
       "      <td>13.122363</td>\n",
       "    </tr>\n",
       "    <tr>\n",
       "      <th>29576</th>\n",
       "      <td>2019-07-25</td>\n",
       "      <td>2612</td>\n",
       "      <td>560000</td>\n",
       "      <td>1</td>\n",
       "      <td>2</td>\n",
       "      <td>30</td>\n",
       "      <td>3</td>\n",
       "      <td>7</td>\n",
       "      <td>2</td>\n",
       "      <td>2019</td>\n",
       "      <td>13.235692</td>\n",
       "    </tr>\n",
       "    <tr>\n",
       "      <th>29577</th>\n",
       "      <td>2019-07-26</td>\n",
       "      <td>2912</td>\n",
       "      <td>464950</td>\n",
       "      <td>1</td>\n",
       "      <td>2</td>\n",
       "      <td>30</td>\n",
       "      <td>4</td>\n",
       "      <td>7</td>\n",
       "      <td>2</td>\n",
       "      <td>2019</td>\n",
       "      <td>13.049685</td>\n",
       "    </tr>\n",
       "    <tr>\n",
       "      <th>29578</th>\n",
       "      <td>2019-07-26</td>\n",
       "      <td>2601</td>\n",
       "      <td>589000</td>\n",
       "      <td>1</td>\n",
       "      <td>2</td>\n",
       "      <td>30</td>\n",
       "      <td>4</td>\n",
       "      <td>7</td>\n",
       "      <td>2</td>\n",
       "      <td>2019</td>\n",
       "      <td>13.286181</td>\n",
       "    </tr>\n",
       "    <tr>\n",
       "      <th>29579</th>\n",
       "      <td>2019-07-26</td>\n",
       "      <td>2612</td>\n",
       "      <td>775000</td>\n",
       "      <td>1</td>\n",
       "      <td>2</td>\n",
       "      <td>30</td>\n",
       "      <td>4</td>\n",
       "      <td>7</td>\n",
       "      <td>2</td>\n",
       "      <td>2019</td>\n",
       "      <td>13.560618</td>\n",
       "    </tr>\n",
       "  </tbody>\n",
       "</table>\n",
       "<p>29550 rows × 11 columns</p>\n",
       "</div>"
      ],
      "text/plain": [
       "        datesold  postcode   price  propertyType  bedrooms  week  week_day  \\\n",
       "0     2007-02-07      2607  525000             0         4     6         2   \n",
       "1     2007-02-27      2906  290000             0         3     9         1   \n",
       "2     2007-03-07      2905  328000             0         3    10         2   \n",
       "3     2007-03-09      2905  380000             0         4    10         4   \n",
       "4     2007-03-21      2906  310000             0         3    12         2   \n",
       "...          ...       ...     ...           ...       ...   ...       ...   \n",
       "29575 2019-07-25      2900  500000             1         3    30         3   \n",
       "29576 2019-07-25      2612  560000             1         2    30         3   \n",
       "29577 2019-07-26      2912  464950             1         2    30         4   \n",
       "29578 2019-07-26      2601  589000             1         2    30         4   \n",
       "29579 2019-07-26      2612  775000             1         2    30         4   \n",
       "\n",
       "       month  season  year  price_trans  \n",
       "0          2       0  2007    13.171154  \n",
       "1          2       0  2007    12.577636  \n",
       "2          3       0  2007    12.700769  \n",
       "3          3       0  2007    12.847927  \n",
       "4          3       0  2007    12.644328  \n",
       "...      ...     ...   ...          ...  \n",
       "29575      7       2  2019    13.122363  \n",
       "29576      7       2  2019    13.235692  \n",
       "29577      7       2  2019    13.049685  \n",
       "29578      7       2  2019    13.286181  \n",
       "29579      7       2  2019    13.560618  \n",
       "\n",
       "[29550 rows x 11 columns]"
      ]
     },
     "execution_count": 17,
     "metadata": {},
     "output_type": "execute_result"
    }
   ],
   "source": [
    "raw_sales"
   ]
  },
  {
   "cell_type": "code",
   "execution_count": 29,
   "metadata": {},
   "outputs": [
    {
     "name": "stderr",
     "output_type": "stream",
     "text": [
      "C:\\Users\\bitun\\AppData\\Local\\Temp\\ipykernel_14368\\2724373008.py:8: FutureWarning: The behavior of `series[i:j]` with an integer-dtype index is deprecated. In a future version, this will be treated as *label-based* indexing, consistent with e.g. `series[i]` lookups. To retain the old behavior, use `series.iloc[i:j]`. To get the future behavior, use `series.loc[i:j]`.\n",
      "  y_train = y[:(int(data_size * (1-test_size)))]\n",
      "C:\\Users\\bitun\\AppData\\Local\\Temp\\ipykernel_14368\\2724373008.py:9: FutureWarning: The behavior of `series[i:j]` with an integer-dtype index is deprecated. In a future version, this will be treated as *label-based* indexing, consistent with e.g. `series[i]` lookups. To retain the old behavior, use `series.iloc[i:j]`. To get the future behavior, use `series.loc[i:j]`.\n",
      "  y_test = y[(int(data_size * (1-test_size))):]\n"
     ]
    }
   ],
   "source": [
    "x = raw_sales.drop(['price', 'price_trans', 'datesold'], axis = 1)\n",
    "y = raw_sales['price_trans']\n",
    "x.week = x.week.astype(int)\n",
    "test_size = 0.2\n",
    "data_size = len(x)\n",
    "x_train = x[:(int(data_size * (1-test_size)))]\n",
    "x_test = x[(int(data_size * (1-test_size))):]\n",
    "y_train = y[:(int(data_size * (1-test_size)))]\n",
    "y_test = y[(int(data_size * (1-test_size))):]"
   ]
  },
  {
   "attachments": {},
   "cell_type": "markdown",
   "metadata": {},
   "source": [
    "## Creating model and training"
   ]
  },
  {
   "cell_type": "code",
   "execution_count": 30,
   "metadata": {},
   "outputs": [
    {
     "data": {
      "text/plain": [
       "postcode        int64\n",
       "propertyType    int64\n",
       "bedrooms        int64\n",
       "week            int32\n",
       "week_day        int64\n",
       "month           int64\n",
       "season          int64\n",
       "year            int64\n",
       "dtype: object"
      ]
     },
     "execution_count": 30,
     "metadata": {},
     "output_type": "execute_result"
    }
   ],
   "source": [
    "x_train.dtypes"
   ]
  },
  {
   "cell_type": "code",
   "execution_count": 31,
   "metadata": {},
   "outputs": [
    {
     "name": "stdout",
     "output_type": "stream",
     "text": [
      "[0]\tvalidation_0-rmse:12.68765\tvalidation_1-rmse:12.35780\n",
      "[100]\tvalidation_0-rmse:4.65051\tvalidation_1-rmse:4.35252\n",
      "[200]\tvalidation_0-rmse:1.71392\tvalidation_1-rmse:1.52510\n",
      "[300]\tvalidation_0-rmse:0.65211\tvalidation_1-rmse:0.53850\n",
      "[400]\tvalidation_0-rmse:0.29183\tvalidation_1-rmse:0.26368\n",
      "[500]\tvalidation_0-rmse:0.19531\tvalidation_1-rmse:0.25242\n",
      "[501]\tvalidation_0-rmse:0.19492\tvalidation_1-rmse:0.25255\n"
     ]
    }
   ],
   "source": [
    "from xgboost import XGBRegressor\n",
    "\n",
    "#params = {'learning_rate': 0.17487160702725146, 'loss': 'absolute_error', 'max_depth': 5, 'min_impurity_decrease': 0.9282174709047137, 'min_samples_leaf': 65, \n",
    "#          'min_samples_split': 33, 'n_estimators': 50, 'subsample': 0.7067241710796682}\n",
    "\n",
    "rfr = XGBRegressor(n_estimators=15000,\n",
    "                       early_stopping_rounds=50,\n",
    "                       learning_rate=0.01)\n",
    "rfr.fit(x_train, y_train,\n",
    "        eval_set=[(x_train, y_train), (x_test, y_test)],\n",
    "        verbose=100)\n",
    "\n",
    "y_pred = rfr.predict(x_test)"
   ]
  },
  {
   "cell_type": "code",
   "execution_count": 33,
   "metadata": {},
   "outputs": [
    {
     "name": "stdout",
     "output_type": "stream",
     "text": [
      "R²: 0.56\n",
      "MSE: 0.06\n",
      "RMSE: 0.25\n",
      "MAPE: 1.45%\n"
     ]
    }
   ],
   "source": [
    "from sklearn.metrics import mean_squared_error, mean_absolute_percentage_error\n",
    "\n",
    "mse = mean_squared_error(y_test, y_pred)\n",
    "mape = mean_absolute_percentage_error(y_test, y_pred)\n",
    "r2 = rfr.score(x_test, y_test)\n",
    "\n",
    "print(\"R²: %.2f\" % r2)\n",
    "print(\"MSE: %.2f\" % mse)\n",
    "print(\"RMSE: %.2f\" % (mse**(1/2.0)))\n",
    "print(\"MAPE: %.2f\" % (mape * 100) + '%')"
   ]
  },
  {
   "attachments": {},
   "cell_type": "markdown",
   "metadata": {},
   "source": [
    "## Evaluating the model"
   ]
  },
  {
   "cell_type": "code",
   "execution_count": 40,
   "metadata": {},
   "outputs": [
    {
     "data": {
      "text/html": [
       "<div>\n",
       "<style scoped>\n",
       "    .dataframe tbody tr th:only-of-type {\n",
       "        vertical-align: middle;\n",
       "    }\n",
       "\n",
       "    .dataframe tbody tr th {\n",
       "        vertical-align: top;\n",
       "    }\n",
       "\n",
       "    .dataframe thead th {\n",
       "        text-align: right;\n",
       "    }\n",
       "</style>\n",
       "<table border=\"1\" class=\"dataframe\">\n",
       "  <thead>\n",
       "    <tr style=\"text-align: right;\">\n",
       "      <th></th>\n",
       "      <th>datesold</th>\n",
       "      <th>postcode</th>\n",
       "      <th>price</th>\n",
       "      <th>propertyType</th>\n",
       "      <th>bedrooms</th>\n",
       "      <th>week</th>\n",
       "      <th>week_day</th>\n",
       "      <th>month</th>\n",
       "      <th>season</th>\n",
       "      <th>year</th>\n",
       "      <th>price_trans</th>\n",
       "      <th>predictions</th>\n",
       "      <th>price_prediction</th>\n",
       "      <th>error</th>\n",
       "      <th>%err</th>\n",
       "    </tr>\n",
       "  </thead>\n",
       "  <tbody>\n",
       "    <tr>\n",
       "      <th>23659</th>\n",
       "      <td>2019-02-07</td>\n",
       "      <td>2905</td>\n",
       "      <td>790000</td>\n",
       "      <td>0</td>\n",
       "      <td>4</td>\n",
       "      <td>6</td>\n",
       "      <td>3</td>\n",
       "      <td>2</td>\n",
       "      <td>0</td>\n",
       "      <td>2019</td>\n",
       "      <td>13.579788</td>\n",
       "      <td>13.267510</td>\n",
       "      <td>578104.81250</td>\n",
       "      <td>211895.18750</td>\n",
       "      <td>0.268222</td>\n",
       "    </tr>\n",
       "    <tr>\n",
       "      <th>23660</th>\n",
       "      <td>2019-02-07</td>\n",
       "      <td>2602</td>\n",
       "      <td>850000</td>\n",
       "      <td>0</td>\n",
       "      <td>4</td>\n",
       "      <td>6</td>\n",
       "      <td>3</td>\n",
       "      <td>2</td>\n",
       "      <td>0</td>\n",
       "      <td>2019</td>\n",
       "      <td>13.652992</td>\n",
       "      <td>13.645295</td>\n",
       "      <td>843483.06250</td>\n",
       "      <td>6516.93750</td>\n",
       "      <td>0.007667</td>\n",
       "    </tr>\n",
       "    <tr>\n",
       "      <th>23661</th>\n",
       "      <td>2019-02-08</td>\n",
       "      <td>2615</td>\n",
       "      <td>515000</td>\n",
       "      <td>0</td>\n",
       "      <td>3</td>\n",
       "      <td>6</td>\n",
       "      <td>4</td>\n",
       "      <td>2</td>\n",
       "      <td>0</td>\n",
       "      <td>2019</td>\n",
       "      <td>13.151922</td>\n",
       "      <td>13.037857</td>\n",
       "      <td>459482.90625</td>\n",
       "      <td>55517.09375</td>\n",
       "      <td>0.107800</td>\n",
       "    </tr>\n",
       "    <tr>\n",
       "      <th>23662</th>\n",
       "      <td>2019-02-08</td>\n",
       "      <td>2913</td>\n",
       "      <td>525000</td>\n",
       "      <td>0</td>\n",
       "      <td>3</td>\n",
       "      <td>6</td>\n",
       "      <td>4</td>\n",
       "      <td>2</td>\n",
       "      <td>0</td>\n",
       "      <td>2019</td>\n",
       "      <td>13.171154</td>\n",
       "      <td>13.057533</td>\n",
       "      <td>468613.34375</td>\n",
       "      <td>56386.65625</td>\n",
       "      <td>0.107403</td>\n",
       "    </tr>\n",
       "    <tr>\n",
       "      <th>23663</th>\n",
       "      <td>2019-02-08</td>\n",
       "      <td>2906</td>\n",
       "      <td>725000</td>\n",
       "      <td>0</td>\n",
       "      <td>5</td>\n",
       "      <td>6</td>\n",
       "      <td>4</td>\n",
       "      <td>2</td>\n",
       "      <td>0</td>\n",
       "      <td>2019</td>\n",
       "      <td>13.493927</td>\n",
       "      <td>13.391140</td>\n",
       "      <td>654181.43750</td>\n",
       "      <td>70818.56250</td>\n",
       "      <td>0.097681</td>\n",
       "    </tr>\n",
       "  </tbody>\n",
       "</table>\n",
       "</div>"
      ],
      "text/plain": [
       "        datesold  postcode   price  propertyType  bedrooms  week  week_day  \\\n",
       "23659 2019-02-07      2905  790000             0         4     6         3   \n",
       "23660 2019-02-07      2602  850000             0         4     6         3   \n",
       "23661 2019-02-08      2615  515000             0         3     6         4   \n",
       "23662 2019-02-08      2913  525000             0         3     6         4   \n",
       "23663 2019-02-08      2906  725000             0         5     6         4   \n",
       "\n",
       "       month  season  year  price_trans  predictions  price_prediction  \\\n",
       "23659      2       0  2019    13.579788    13.267510      578104.81250   \n",
       "23660      2       0  2019    13.652992    13.645295      843483.06250   \n",
       "23661      2       0  2019    13.151922    13.037857      459482.90625   \n",
       "23662      2       0  2019    13.171154    13.057533      468613.34375   \n",
       "23663      2       0  2019    13.493927    13.391140      654181.43750   \n",
       "\n",
       "              error      %err  \n",
       "23659  211895.18750  0.268222  \n",
       "23660    6516.93750  0.007667  \n",
       "23661   55517.09375  0.107800  \n",
       "23662   56386.65625  0.107403  \n",
       "23663   70818.56250  0.097681  "
      ]
     },
     "execution_count": 40,
     "metadata": {},
     "output_type": "execute_result"
    }
   ],
   "source": [
    "test = raw_sales.iloc[(int(data_size * (1-test_size))):].copy()\n",
    "test['predictions'] = rfr.predict(x_test)\n",
    "test['price_prediction'] = np.exp(test['predictions'])\n",
    "test['error'] = abs(test['price'] - test['price_prediction'])\n",
    "test['%err'] = abs((test['price_prediction'] / test['price']) - 1)\n",
    "test.head()"
   ]
  },
  {
   "cell_type": "code",
   "execution_count": 45,
   "metadata": {},
   "outputs": [
    {
     "data": {
      "text/plain": [
       "<matplotlib.legend.Legend at 0x172bfc1b0d0>"
      ]
     },
     "execution_count": 45,
     "metadata": {},
     "output_type": "execute_result"
    },
    {
     "data": {
      "image/png": "[encoded data removed]",
      "text/plain": [
       "<Figure size 432x288 with 1 Axes>"
      ]
     },
     "metadata": {
      "needs_background": "light"
     },
     "output_type": "display_data"
    }
   ],
   "source": [
    "sns.lineplot(x = 'datesold', y = 'price', data = test.loc[test['bedrooms'] == 1])\n",
    "sns.lineplot(x = 'datesold', y = 'price_prediction', data = test.loc[test['bedrooms'] == 1])\n",
    "plt.legend(['True'])"
   ]
  },
  {
   "cell_type": "code",
   "execution_count": 44,
   "metadata": {},
   "outputs": [
    {
     "data": {
      "image/png": "[encoded data removed]",
      "text/plain": [
       "<Figure size 432x288 with 1 Axes>"
      ]
     },
     "metadata": {
      "needs_background": "light"
     },
     "output_type": "display_data"
    }
   ],
   "source": [
    "sns.scatterplot(x = '%err', y = 'price', data = test, hue = 'bedrooms');"
   ]
  },
  {
   "attachments": {},
   "cell_type": "markdown",
   "metadata": {},
   "source": [
    "## Hiperparameter tuning"
   ]
  },
  {
   "cell_type": "code",
   "execution_count": 83,
   "metadata": {},
   "outputs": [],
   "source": [
    "from sklearn.model_selection import RandomizedSearchCV\n",
    "from scipy.stats import uniform as sp_randFloat\n",
    "from scipy.stats import randint as sp_randInt"
   ]
  },
  {
   "cell_type": "code",
   "execution_count": 84,
   "metadata": {},
   "outputs": [],
   "source": [
    "parameters = {\n",
    "        'loss': ['squared_error', 'absolute_error'],\n",
    "        'learning_rate': sp_randFloat(),\n",
    "        'subsample'    : sp_randFloat(),\n",
    "        'n_estimators' : sp_randInt(100, 1000),\n",
    "        'max_depth'    : sp_randInt(4, 10),\n",
    "        \"n_estimators\":[5,50,250,500],\n",
    "        'min_impurity_decrease': sp_randFloat(),\n",
    "        'min_samples_leaf': sp_randInt(5,100),\n",
    "        'min_samples_split': sp_randInt(5,100)\n",
    "}"
   ]
  },
  {
   "cell_type": "code",
   "execution_count": 48,
   "metadata": {},
   "outputs": [],
   "source": [
    "#randm_src = RandomizedSearchCV(estimator=rfr, param_distributions = parameters,\n",
    "#                               cv = 2, n_iter = 10, n_jobs=-1)\n",
    "#randm_src.fit(train_x, train_y)\n",
    "\n",
    "#print(\" Results from Random Search \" )\n",
    "#print(\"\\n The best estimator across ALL searched params:\\n\", randm_src.best_estimator_)\n",
    "#print(\"\\n The best score across ALL searched params:\\n\", randm_src.best_score_)\n",
    "#print(\"\\n The best parameters across ALL searched params:\\n\", randm_src.best_params_)"
   ]
  },
  {
   "cell_type": "code",
   "execution_count": 203,
   "metadata": {},
   "outputs": [
    {
     "data": {
      "text/plain": [
       "0.6570856852128106"
      ]
     },
     "execution_count": 203,
     "metadata": {},
     "output_type": "execute_result"
    }
   ],
   "source": [
    "randm_src.best_estimator_.score(test_x, test_y)"
   ]
  }
 ],
 "metadata": {
  "kernelspec": {
   "display_name": "Python 3 (ipykernel)",
   "language": "python",
   "name": "python3"
  },
  "language_info": {
   "codemirror_mode": {
    "name": "ipython",
    "version": 3
   },
   "file_extension": ".py",
   "mimetype": "text/x-python",
   "name": "python",
   "nbconvert_exporter": "python",
   "pygments_lexer": "ipython3",
   "version": "3.9.7"
  },
  "vscode": {
   "interpreter": {
    "hash": "1d837b323c6ce9aa7029450ef62e0f4a09705a988ce85c449a8b7105975c596a"
   }
  }
 },
 "nbformat": 4,
 "nbformat_minor": 2
}
