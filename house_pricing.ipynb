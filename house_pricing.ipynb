{
 "cells": [
  {
   "cell_type": "markdown",
   "metadata": {},
   "source": [
    "# House prices Time Forecasting"
   ]
  },
  {
   "cell_type": "markdown",
   "metadata": {},
   "source": [
    "## Importing Libraries"
   ]
  },
  {
   "cell_type": "code",
   "execution_count": 184,
   "metadata": {},
   "outputs": [],
   "source": [
    "import pandas as pd\n",
    "import numpy as np\n",
    "import matplotlib.pyplot as plt\n",
    "import seaborn as sns\n",
    "from datetime import datetime\n",
    "import matplotlib"
   ]
  },
  {
   "cell_type": "markdown",
   "metadata": {},
   "source": [
    "## Reading data"
   ]
  },
  {
   "cell_type": "code",
   "execution_count": 185,
   "metadata": {},
   "outputs": [
    {
     "data": {
      "text/html": [
       "<div>\n",
       "<style scoped>\n",
       "    .dataframe tbody tr th:only-of-type {\n",
       "        vertical-align: middle;\n",
       "    }\n",
       "\n",
       "    .dataframe tbody tr th {\n",
       "        vertical-align: top;\n",
       "    }\n",
       "\n",
       "    .dataframe thead th {\n",
       "        text-align: right;\n",
       "    }\n",
       "</style>\n",
       "<table border=\"1\" class=\"dataframe\">\n",
       "  <thead>\n",
       "    <tr style=\"text-align: right;\">\n",
       "      <th></th>\n",
       "      <th>datesold</th>\n",
       "      <th>postcode</th>\n",
       "      <th>price</th>\n",
       "      <th>propertyType</th>\n",
       "      <th>bedrooms</th>\n",
       "    </tr>\n",
       "  </thead>\n",
       "  <tbody>\n",
       "    <tr>\n",
       "      <th>0</th>\n",
       "      <td>2007-02-07 00:00:00</td>\n",
       "      <td>2607</td>\n",
       "      <td>525000</td>\n",
       "      <td>house</td>\n",
       "      <td>4</td>\n",
       "    </tr>\n",
       "    <tr>\n",
       "      <th>1</th>\n",
       "      <td>2007-02-27 00:00:00</td>\n",
       "      <td>2906</td>\n",
       "      <td>290000</td>\n",
       "      <td>house</td>\n",
       "      <td>3</td>\n",
       "    </tr>\n",
       "    <tr>\n",
       "      <th>2</th>\n",
       "      <td>2007-03-07 00:00:00</td>\n",
       "      <td>2905</td>\n",
       "      <td>328000</td>\n",
       "      <td>house</td>\n",
       "      <td>3</td>\n",
       "    </tr>\n",
       "    <tr>\n",
       "      <th>3</th>\n",
       "      <td>2007-03-09 00:00:00</td>\n",
       "      <td>2905</td>\n",
       "      <td>380000</td>\n",
       "      <td>house</td>\n",
       "      <td>4</td>\n",
       "    </tr>\n",
       "    <tr>\n",
       "      <th>4</th>\n",
       "      <td>2007-03-21 00:00:00</td>\n",
       "      <td>2906</td>\n",
       "      <td>310000</td>\n",
       "      <td>house</td>\n",
       "      <td>3</td>\n",
       "    </tr>\n",
       "  </tbody>\n",
       "</table>\n",
       "</div>"
      ],
      "text/plain": [
       "              datesold  postcode   price propertyType  bedrooms\n",
       "0  2007-02-07 00:00:00      2607  525000        house         4\n",
       "1  2007-02-27 00:00:00      2906  290000        house         3\n",
       "2  2007-03-07 00:00:00      2905  328000        house         3\n",
       "3  2007-03-09 00:00:00      2905  380000        house         4\n",
       "4  2007-03-21 00:00:00      2906  310000        house         3"
      ]
     },
     "execution_count": 185,
     "metadata": {},
     "output_type": "execute_result"
    }
   ],
   "source": [
    "raw_sales = pd.read_csv('Data\\house_sales.csv')\n",
    "raw_sales.head()"
   ]
  },
  {
   "cell_type": "markdown",
   "metadata": {},
   "source": [
    "## Creating all date features"
   ]
  },
  {
   "cell_type": "code",
   "execution_count": 186,
   "metadata": {},
   "outputs": [
    {
     "data": {
      "text/plain": [
       "3    11933\n",
       "4    10442\n",
       "2     3598\n",
       "5     1950\n",
       "1     1627\n",
       "0       30\n",
       "Name: bedrooms, dtype: int64"
      ]
     },
     "execution_count": 186,
     "metadata": {},
     "output_type": "execute_result"
    }
   ],
   "source": [
    "raw_sales.bedrooms.value_counts()"
   ]
  },
  {
   "cell_type": "code",
   "execution_count": 187,
   "metadata": {},
   "outputs": [
    {
     "data": {
      "text/html": [
       "<div>\n",
       "<style scoped>\n",
       "    .dataframe tbody tr th:only-of-type {\n",
       "        vertical-align: middle;\n",
       "    }\n",
       "\n",
       "    .dataframe tbody tr th {\n",
       "        vertical-align: top;\n",
       "    }\n",
       "\n",
       "    .dataframe thead th {\n",
       "        text-align: right;\n",
       "    }\n",
       "</style>\n",
       "<table border=\"1\" class=\"dataframe\">\n",
       "  <thead>\n",
       "    <tr style=\"text-align: right;\">\n",
       "      <th></th>\n",
       "      <th>datesold</th>\n",
       "      <th>postcode</th>\n",
       "      <th>price</th>\n",
       "      <th>propertyType</th>\n",
       "      <th>bedrooms</th>\n",
       "      <th>week</th>\n",
       "      <th>week_day</th>\n",
       "      <th>month</th>\n",
       "      <th>season</th>\n",
       "      <th>year</th>\n",
       "      <th>price_trans</th>\n",
       "    </tr>\n",
       "  </thead>\n",
       "  <tbody>\n",
       "    <tr>\n",
       "      <th>0</th>\n",
       "      <td>2007-02-07</td>\n",
       "      <td>2607</td>\n",
       "      <td>525000</td>\n",
       "      <td>0</td>\n",
       "      <td>4</td>\n",
       "      <td>6</td>\n",
       "      <td>2</td>\n",
       "      <td>2</td>\n",
       "      <td>0</td>\n",
       "      <td>2007</td>\n",
       "      <td>13.171154</td>\n",
       "    </tr>\n",
       "    <tr>\n",
       "      <th>1</th>\n",
       "      <td>2007-02-27</td>\n",
       "      <td>2906</td>\n",
       "      <td>290000</td>\n",
       "      <td>0</td>\n",
       "      <td>3</td>\n",
       "      <td>9</td>\n",
       "      <td>1</td>\n",
       "      <td>2</td>\n",
       "      <td>0</td>\n",
       "      <td>2007</td>\n",
       "      <td>12.577636</td>\n",
       "    </tr>\n",
       "    <tr>\n",
       "      <th>2</th>\n",
       "      <td>2007-03-07</td>\n",
       "      <td>2905</td>\n",
       "      <td>328000</td>\n",
       "      <td>0</td>\n",
       "      <td>3</td>\n",
       "      <td>10</td>\n",
       "      <td>2</td>\n",
       "      <td>3</td>\n",
       "      <td>0</td>\n",
       "      <td>2007</td>\n",
       "      <td>12.700769</td>\n",
       "    </tr>\n",
       "    <tr>\n",
       "      <th>3</th>\n",
       "      <td>2007-03-09</td>\n",
       "      <td>2905</td>\n",
       "      <td>380000</td>\n",
       "      <td>0</td>\n",
       "      <td>4</td>\n",
       "      <td>10</td>\n",
       "      <td>4</td>\n",
       "      <td>3</td>\n",
       "      <td>0</td>\n",
       "      <td>2007</td>\n",
       "      <td>12.847927</td>\n",
       "    </tr>\n",
       "    <tr>\n",
       "      <th>4</th>\n",
       "      <td>2007-03-21</td>\n",
       "      <td>2906</td>\n",
       "      <td>310000</td>\n",
       "      <td>0</td>\n",
       "      <td>3</td>\n",
       "      <td>12</td>\n",
       "      <td>2</td>\n",
       "      <td>3</td>\n",
       "      <td>0</td>\n",
       "      <td>2007</td>\n",
       "      <td>12.644328</td>\n",
       "    </tr>\n",
       "  </tbody>\n",
       "</table>\n",
       "</div>"
      ],
      "text/plain": [
       "    datesold  postcode   price  propertyType  bedrooms  week  week_day  month  \\\n",
       "0 2007-02-07      2607  525000             0         4     6         2      2   \n",
       "1 2007-02-27      2906  290000             0         3     9         1      2   \n",
       "2 2007-03-07      2905  328000             0         3    10         2      3   \n",
       "3 2007-03-09      2905  380000             0         4    10         4      3   \n",
       "4 2007-03-21      2906  310000             0         3    12         2      3   \n",
       "\n",
       "   season  year  price_trans  \n",
       "0       0  2007    13.171154  \n",
       "1       0  2007    12.577636  \n",
       "2       0  2007    12.700769  \n",
       "3       0  2007    12.847927  \n",
       "4       0  2007    12.644328  "
      ]
     },
     "execution_count": 187,
     "metadata": {},
     "output_type": "execute_result"
    }
   ],
   "source": [
    "raw_sales = raw_sales.loc[raw_sales['bedrooms'] != 0]\n",
    "raw_sales['datesold'] = pd.to_datetime(raw_sales['datesold'])\n",
    "raw_sales['week'] = raw_sales['datesold'].dt.isocalendar().week\n",
    "raw_sales['week_day'] = raw_sales['datesold'].dt.weekday\n",
    "raw_sales['month'] = raw_sales['datesold'].dt.month\n",
    "raw_sales['season'] = (raw_sales['datesold'].dt.month - 1)//3\n",
    "raw_sales['year'] = raw_sales['datesold'].dt.year\n",
    "raw_sales['propertyType']=raw_sales['propertyType'].replace(['house', 'unit'], [0,1])\n",
    "raw_sales['price_trans'] = np.log(raw_sales.price)\n",
    "raw_sales.head()"
   ]
  },
  {
   "attachments": {},
   "cell_type": "markdown",
   "metadata": {},
   "source": [
    "## Using seasonal decompose to get info about seasonal changes"
   ]
  },
  {
   "cell_type": "code",
   "execution_count": 188,
   "metadata": {},
   "outputs": [],
   "source": [
    "from statsmodels.tsa.seasonal import seasonal_decompose\n"
   ]
  },
  {
   "cell_type": "code",
   "execution_count": 189,
   "metadata": {},
   "outputs": [
    {
     "data": {
      "image/png": "[encoded data removed]",
      "text/plain": [
       "<Figure size 1080x576 with 4 Axes>"
      ]
     },
     "metadata": {
      "needs_background": "light"
     },
     "output_type": "display_data"
    }
   ],
   "source": [
    "raw_sales.set_index('datesold', inplace =True)\n",
    "matplotlib.rcParams['figure.figsize'] = [15.0,8.0]\n",
    "decomposition = seasonal_decompose(raw_sales[\"price\"],model='additive', period = 30)\n",
    "fig = decomposition.plot()"
   ]
  },
  {
   "cell_type": "code",
   "execution_count": 190,
   "metadata": {},
   "outputs": [
    {
     "data": {
      "text/html": [
       "<div>\n",
       "<style scoped>\n",
       "    .dataframe tbody tr th:only-of-type {\n",
       "        vertical-align: middle;\n",
       "    }\n",
       "\n",
       "    .dataframe tbody tr th {\n",
       "        vertical-align: top;\n",
       "    }\n",
       "\n",
       "    .dataframe thead th {\n",
       "        text-align: right;\n",
       "    }\n",
       "</style>\n",
       "<table border=\"1\" class=\"dataframe\">\n",
       "  <thead>\n",
       "    <tr style=\"text-align: right;\">\n",
       "      <th></th>\n",
       "      <th>postcode</th>\n",
       "      <th>price</th>\n",
       "      <th>propertyType</th>\n",
       "      <th>bedrooms</th>\n",
       "      <th>week</th>\n",
       "      <th>week_day</th>\n",
       "      <th>month</th>\n",
       "      <th>season</th>\n",
       "      <th>year</th>\n",
       "      <th>price_trans</th>\n",
       "      <th>seasonal</th>\n",
       "      <th>trend</th>\n",
       "    </tr>\n",
       "    <tr>\n",
       "      <th>datesold</th>\n",
       "      <th></th>\n",
       "      <th></th>\n",
       "      <th></th>\n",
       "      <th></th>\n",
       "      <th></th>\n",
       "      <th></th>\n",
       "      <th></th>\n",
       "      <th></th>\n",
       "      <th></th>\n",
       "      <th></th>\n",
       "      <th></th>\n",
       "      <th></th>\n",
       "    </tr>\n",
       "  </thead>\n",
       "  <tbody>\n",
       "    <tr>\n",
       "      <th>2007-07-02</th>\n",
       "      <td>2914</td>\n",
       "      <td>800000</td>\n",
       "      <td>0</td>\n",
       "      <td>5</td>\n",
       "      <td>27</td>\n",
       "      <td>0</td>\n",
       "      <td>7</td>\n",
       "      <td>2</td>\n",
       "      <td>2007</td>\n",
       "      <td>13.592367</td>\n",
       "      <td>-1112.109818</td>\n",
       "      <td>577166.666667</td>\n",
       "    </tr>\n",
       "    <tr>\n",
       "      <th>2007-07-03</th>\n",
       "      <td>2906</td>\n",
       "      <td>336000</td>\n",
       "      <td>0</td>\n",
       "      <td>3</td>\n",
       "      <td>27</td>\n",
       "      <td>1</td>\n",
       "      <td>7</td>\n",
       "      <td>2</td>\n",
       "      <td>2007</td>\n",
       "      <td>12.724866</td>\n",
       "      <td>-6512.351180</td>\n",
       "      <td>578633.333333</td>\n",
       "    </tr>\n",
       "    <tr>\n",
       "      <th>2007-07-06</th>\n",
       "      <td>2615</td>\n",
       "      <td>535000</td>\n",
       "      <td>0</td>\n",
       "      <td>5</td>\n",
       "      <td>27</td>\n",
       "      <td>4</td>\n",
       "      <td>7</td>\n",
       "      <td>2</td>\n",
       "      <td>2007</td>\n",
       "      <td>13.190022</td>\n",
       "      <td>-3638.069337</td>\n",
       "      <td>583383.333333</td>\n",
       "    </tr>\n",
       "    <tr>\n",
       "      <th>2007-07-07</th>\n",
       "      <td>2602</td>\n",
       "      <td>900000</td>\n",
       "      <td>0</td>\n",
       "      <td>4</td>\n",
       "      <td>27</td>\n",
       "      <td>5</td>\n",
       "      <td>7</td>\n",
       "      <td>2</td>\n",
       "      <td>2007</td>\n",
       "      <td>13.710150</td>\n",
       "      <td>8041.950649</td>\n",
       "      <td>593833.333333</td>\n",
       "    </tr>\n",
       "    <tr>\n",
       "      <th>2007-07-08</th>\n",
       "      <td>2600</td>\n",
       "      <td>327000</td>\n",
       "      <td>0</td>\n",
       "      <td>1</td>\n",
       "      <td>27</td>\n",
       "      <td>6</td>\n",
       "      <td>7</td>\n",
       "      <td>2</td>\n",
       "      <td>2007</td>\n",
       "      <td>12.697715</td>\n",
       "      <td>-9041.034784</td>\n",
       "      <td>605008.333333</td>\n",
       "    </tr>\n",
       "    <tr>\n",
       "      <th>...</th>\n",
       "      <td>...</td>\n",
       "      <td>...</td>\n",
       "      <td>...</td>\n",
       "      <td>...</td>\n",
       "      <td>...</td>\n",
       "      <td>...</td>\n",
       "      <td>...</td>\n",
       "      <td>...</td>\n",
       "      <td>...</td>\n",
       "      <td>...</td>\n",
       "      <td>...</td>\n",
       "      <td>...</td>\n",
       "    </tr>\n",
       "    <tr>\n",
       "      <th>2019-07-18</th>\n",
       "      <td>2601</td>\n",
       "      <td>580000</td>\n",
       "      <td>1</td>\n",
       "      <td>2</td>\n",
       "      <td>29</td>\n",
       "      <td>3</td>\n",
       "      <td>7</td>\n",
       "      <td>2</td>\n",
       "      <td>2019</td>\n",
       "      <td>13.270783</td>\n",
       "      <td>258.307357</td>\n",
       "      <td>390926.666667</td>\n",
       "    </tr>\n",
       "    <tr>\n",
       "      <th>2019-07-19</th>\n",
       "      <td>2911</td>\n",
       "      <td>279000</td>\n",
       "      <td>1</td>\n",
       "      <td>1</td>\n",
       "      <td>29</td>\n",
       "      <td>4</td>\n",
       "      <td>7</td>\n",
       "      <td>2</td>\n",
       "      <td>2019</td>\n",
       "      <td>12.538967</td>\n",
       "      <td>4844.878495</td>\n",
       "      <td>393526.666667</td>\n",
       "    </tr>\n",
       "    <tr>\n",
       "      <th>2019-07-23</th>\n",
       "      <td>2617</td>\n",
       "      <td>310000</td>\n",
       "      <td>1</td>\n",
       "      <td>1</td>\n",
       "      <td>30</td>\n",
       "      <td>1</td>\n",
       "      <td>7</td>\n",
       "      <td>2</td>\n",
       "      <td>2019</td>\n",
       "      <td>12.644328</td>\n",
       "      <td>2445.021279</td>\n",
       "      <td>394609.166667</td>\n",
       "    </tr>\n",
       "    <tr>\n",
       "      <th>2019-07-23</th>\n",
       "      <td>2912</td>\n",
       "      <td>339950</td>\n",
       "      <td>1</td>\n",
       "      <td>2</td>\n",
       "      <td>30</td>\n",
       "      <td>1</td>\n",
       "      <td>7</td>\n",
       "      <td>2</td>\n",
       "      <td>2019</td>\n",
       "      <td>12.736554</td>\n",
       "      <td>9866.413048</td>\n",
       "      <td>397908.333333</td>\n",
       "    </tr>\n",
       "    <tr>\n",
       "      <th>2019-07-23</th>\n",
       "      <td>2914</td>\n",
       "      <td>450000</td>\n",
       "      <td>1</td>\n",
       "      <td>3</td>\n",
       "      <td>30</td>\n",
       "      <td>1</td>\n",
       "      <td>7</td>\n",
       "      <td>2</td>\n",
       "      <td>2019</td>\n",
       "      <td>13.017003</td>\n",
       "      <td>8670.797194</td>\n",
       "      <td>407975.000000</td>\n",
       "    </tr>\n",
       "  </tbody>\n",
       "</table>\n",
       "<p>29520 rows × 12 columns</p>\n",
       "</div>"
      ],
      "text/plain": [
       "            postcode   price  propertyType  bedrooms  week  week_day  month  \\\n",
       "datesold                                                                      \n",
       "2007-07-02      2914  800000             0         5    27         0      7   \n",
       "2007-07-03      2906  336000             0         3    27         1      7   \n",
       "2007-07-06      2615  535000             0         5    27         4      7   \n",
       "2007-07-07      2602  900000             0         4    27         5      7   \n",
       "2007-07-08      2600  327000             0         1    27         6      7   \n",
       "...              ...     ...           ...       ...   ...       ...    ...   \n",
       "2019-07-18      2601  580000             1         2    29         3      7   \n",
       "2019-07-19      2911  279000             1         1    29         4      7   \n",
       "2019-07-23      2617  310000             1         1    30         1      7   \n",
       "2019-07-23      2912  339950             1         2    30         1      7   \n",
       "2019-07-23      2914  450000             1         3    30         1      7   \n",
       "\n",
       "            season  year  price_trans     seasonal          trend  \n",
       "datesold                                                           \n",
       "2007-07-02       2  2007    13.592367 -1112.109818  577166.666667  \n",
       "2007-07-03       2  2007    12.724866 -6512.351180  578633.333333  \n",
       "2007-07-06       2  2007    13.190022 -3638.069337  583383.333333  \n",
       "2007-07-07       2  2007    13.710150  8041.950649  593833.333333  \n",
       "2007-07-08       2  2007    12.697715 -9041.034784  605008.333333  \n",
       "...            ...   ...          ...          ...            ...  \n",
       "2019-07-18       2  2019    13.270783   258.307357  390926.666667  \n",
       "2019-07-19       2  2019    12.538967  4844.878495  393526.666667  \n",
       "2019-07-23       2  2019    12.644328  2445.021279  394609.166667  \n",
       "2019-07-23       2  2019    12.736554  9866.413048  397908.333333  \n",
       "2019-07-23       2  2019    13.017003  8670.797194  407975.000000  \n",
       "\n",
       "[29520 rows x 12 columns]"
      ]
     },
     "execution_count": 190,
     "metadata": {},
     "output_type": "execute_result"
    }
   ],
   "source": [
    "raw_sales['seasonal'] = decomposition.seasonal\n",
    "raw_sales['trend'] = decomposition.trend \n",
    "raw_sales.dropna(inplace = True)\n",
    "raw_sales"
   ]
  },
  {
   "attachments": {},
   "cell_type": "markdown",
   "metadata": {},
   "source": [
    "## Looking at price distribution and applying logaritmic transformation to it"
   ]
  },
  {
   "cell_type": "code",
   "execution_count": 191,
   "metadata": {},
   "outputs": [
    {
     "data": {
      "image/png": "[encoded data removed]",
      "text/plain": [
       "<Figure size 1080x576 with 1 Axes>"
      ]
     },
     "metadata": {
      "needs_background": "light"
     },
     "output_type": "display_data"
    }
   ],
   "source": [
    "ax = sns.boxplot(raw_sales['price']);"
   ]
  },
  {
   "cell_type": "code",
   "execution_count": 192,
   "metadata": {},
   "outputs": [
    {
     "data": {
      "image/png": "[encoded data removed]",
      "text/plain": [
       "<Figure size 1080x576 with 1 Axes>"
      ]
     },
     "metadata": {
      "needs_background": "light"
     },
     "output_type": "display_data"
    }
   ],
   "source": [
    "raw_sales['price_trans'] = np.log(raw_sales['price'])\n",
    "\n",
    "ax = sns.boxplot(raw_sales['price_trans']);"
   ]
  },
  {
   "attachments": {},
   "cell_type": "markdown",
   "metadata": {},
   "source": [
    "## Separing data in training and testing data"
   ]
  },
  {
   "cell_type": "code",
   "execution_count": 193,
   "metadata": {},
   "outputs": [],
   "source": [
    "raw_sales.sort_values('datesold', ascending = True, inplace = True)\n",
    "last_value = int(len(raw_sales) * 0.998)\n",
    "\n",
    "train_x = raw_sales.iloc[0:last_value].drop(['price', 'price_trans'], axis = 1)\n",
    "train_y = raw_sales.iloc[0:last_value]['price_trans']\n",
    "test_x = raw_sales.iloc[last_value:].drop(['price', 'price_trans'], axis = 1)\n",
    "test_y = raw_sales.iloc[last_value:]['price_trans']"
   ]
  },
  {
   "attachments": {},
   "cell_type": "markdown",
   "metadata": {},
   "source": [
    "## Creating the model and training"
   ]
  },
  {
   "cell_type": "code",
   "execution_count": 194,
   "metadata": {},
   "outputs": [
    {
     "data": {
      "text/html": [
       "<style>#sk-container-id-10 {color: black;background-color: white;}#sk-container-id-10 pre{padding: 0;}#sk-container-id-10 div.sk-toggleable {background-color: white;}#sk-container-id-10 label.sk-toggleable__label {cursor: pointer;display: block;width: 100%;margin-bottom: 0;padding: 0.3em;box-sizing: border-box;text-align: center;}#sk-container-id-10 label.sk-toggleable__label-arrow:before {content: \"▸\";float: left;margin-right: 0.25em;color: #696969;}#sk-container-id-10 label.sk-toggleable__label-arrow:hover:before {color: black;}#sk-container-id-10 div.sk-estimator:hover label.sk-toggleable__label-arrow:before {color: black;}#sk-container-id-10 div.sk-toggleable__content {max-height: 0;max-width: 0;overflow: hidden;text-align: left;background-color: #f0f8ff;}#sk-container-id-10 div.sk-toggleable__content pre {margin: 0.2em;color: black;border-radius: 0.25em;background-color: #f0f8ff;}#sk-container-id-10 input.sk-toggleable__control:checked~div.sk-toggleable__content {max-height: 200px;max-width: 100%;overflow: auto;}#sk-container-id-10 input.sk-toggleable__control:checked~label.sk-toggleable__label-arrow:before {content: \"▾\";}#sk-container-id-10 div.sk-estimator input.sk-toggleable__control:checked~label.sk-toggleable__label {background-color: #d4ebff;}#sk-container-id-10 div.sk-label input.sk-toggleable__control:checked~label.sk-toggleable__label {background-color: #d4ebff;}#sk-container-id-10 input.sk-hidden--visually {border: 0;clip: rect(1px 1px 1px 1px);clip: rect(1px, 1px, 1px, 1px);height: 1px;margin: -1px;overflow: hidden;padding: 0;position: absolute;width: 1px;}#sk-container-id-10 div.sk-estimator {font-family: monospace;background-color: #f0f8ff;border: 1px dotted black;border-radius: 0.25em;box-sizing: border-box;margin-bottom: 0.5em;}#sk-container-id-10 div.sk-estimator:hover {background-color: #d4ebff;}#sk-container-id-10 div.sk-parallel-item::after {content: \"\";width: 100%;border-bottom: 1px solid gray;flex-grow: 1;}#sk-container-id-10 div.sk-label:hover label.sk-toggleable__label {background-color: #d4ebff;}#sk-container-id-10 div.sk-serial::before {content: \"\";position: absolute;border-left: 1px solid gray;box-sizing: border-box;top: 0;bottom: 0;left: 50%;z-index: 0;}#sk-container-id-10 div.sk-serial {display: flex;flex-direction: column;align-items: center;background-color: white;padding-right: 0.2em;padding-left: 0.2em;position: relative;}#sk-container-id-10 div.sk-item {position: relative;z-index: 1;}#sk-container-id-10 div.sk-parallel {display: flex;align-items: stretch;justify-content: center;background-color: white;position: relative;}#sk-container-id-10 div.sk-item::before, #sk-container-id-10 div.sk-parallel-item::before {content: \"\";position: absolute;border-left: 1px solid gray;box-sizing: border-box;top: 0;bottom: 0;left: 50%;z-index: -1;}#sk-container-id-10 div.sk-parallel-item {display: flex;flex-direction: column;z-index: 1;position: relative;background-color: white;}#sk-container-id-10 div.sk-parallel-item:first-child::after {align-self: flex-end;width: 50%;}#sk-container-id-10 div.sk-parallel-item:last-child::after {align-self: flex-start;width: 50%;}#sk-container-id-10 div.sk-parallel-item:only-child::after {width: 0;}#sk-container-id-10 div.sk-dashed-wrapped {border: 1px dashed gray;margin: 0 0.4em 0.5em 0.4em;box-sizing: border-box;padding-bottom: 0.4em;background-color: white;}#sk-container-id-10 div.sk-label label {font-family: monospace;font-weight: bold;display: inline-block;line-height: 1.2em;}#sk-container-id-10 div.sk-label-container {text-align: center;}#sk-container-id-10 div.sk-container {/* jupyter's `normalize.less` sets `[hidden] { display: none; }` but bootstrap.min.css set `[hidden] { display: none !important; }` so we also need the `!important` here to be able to override the default hidden behavior on the sphinx rendered scikit-learn.org. See: https://github.com/scikit-learn/scikit-learn/issues/21755 */display: inline-block !important;position: relative;}#sk-container-id-10 div.sk-text-repr-fallback {display: none;}</style><div id=\"sk-container-id-10\" class=\"sk-top-container\"><div class=\"sk-text-repr-fallback\"><pre>GradientBoostingRegressor(learning_rate=0.17487160702725146,\n",
       "                          loss=&#x27;absolute_error&#x27;, max_depth=5,\n",
       "                          min_impurity_decrease=0.9282174709047137,\n",
       "                          min_samples_leaf=65, min_samples_split=33,\n",
       "                          n_estimators=50, subsample=0.7067241710796682)</pre><b>In a Jupyter environment, please rerun this cell to show the HTML representation or trust the notebook. <br />On GitHub, the HTML representation is unable to render, please try loading this page with nbviewer.org.</b></div><div class=\"sk-container\" hidden><div class=\"sk-item\"><div class=\"sk-estimator sk-toggleable\"><input class=\"sk-toggleable__control sk-hidden--visually\" id=\"sk-estimator-id-10\" type=\"checkbox\" checked><label for=\"sk-estimator-id-10\" class=\"sk-toggleable__label sk-toggleable__label-arrow\">GradientBoostingRegressor</label><div class=\"sk-toggleable__content\"><pre>GradientBoostingRegressor(learning_rate=0.17487160702725146,\n",
       "                          loss=&#x27;absolute_error&#x27;, max_depth=5,\n",
       "                          min_impurity_decrease=0.9282174709047137,\n",
       "                          min_samples_leaf=65, min_samples_split=33,\n",
       "                          n_estimators=50, subsample=0.7067241710796682)</pre></div></div></div></div></div>"
      ],
      "text/plain": [
       "GradientBoostingRegressor(learning_rate=0.17487160702725146,\n",
       "                          loss='absolute_error', max_depth=5,\n",
       "                          min_impurity_decrease=0.9282174709047137,\n",
       "                          min_samples_leaf=65, min_samples_split=33,\n",
       "                          n_estimators=50, subsample=0.7067241710796682)"
      ]
     },
     "execution_count": 194,
     "metadata": {},
     "output_type": "execute_result"
    }
   ],
   "source": [
    "from sklearn.ensemble import GradientBoostingRegressor\n",
    "\n",
    "params = {'learning_rate': 0.17487160702725146, 'loss': 'absolute_error', 'max_depth': 5, 'min_impurity_decrease': 0.9282174709047137, 'min_samples_leaf': 65, \n",
    "          'min_samples_split': 33, 'n_estimators': 50, 'subsample': 0.7067241710796682}\n",
    "\n",
    "rfr = GradientBoostingRegressor(**params)\n",
    "rfr.fit(train_x, train_y)"
   ]
  },
  {
   "attachments": {},
   "cell_type": "markdown",
   "metadata": {},
   "source": [
    "## Evaluating the model"
   ]
  },
  {
   "cell_type": "code",
   "execution_count": 195,
   "metadata": {},
   "outputs": [
    {
     "data": {
      "text/html": [
       "<div>\n",
       "<style scoped>\n",
       "    .dataframe tbody tr th:only-of-type {\n",
       "        vertical-align: middle;\n",
       "    }\n",
       "\n",
       "    .dataframe tbody tr th {\n",
       "        vertical-align: top;\n",
       "    }\n",
       "\n",
       "    .dataframe thead th {\n",
       "        text-align: right;\n",
       "    }\n",
       "</style>\n",
       "<table border=\"1\" class=\"dataframe\">\n",
       "  <thead>\n",
       "    <tr style=\"text-align: right;\">\n",
       "      <th></th>\n",
       "      <th>postcode</th>\n",
       "      <th>price</th>\n",
       "      <th>propertyType</th>\n",
       "      <th>bedrooms</th>\n",
       "      <th>week</th>\n",
       "      <th>week_day</th>\n",
       "      <th>month</th>\n",
       "      <th>season</th>\n",
       "      <th>year</th>\n",
       "      <th>price_trans</th>\n",
       "      <th>seasonal</th>\n",
       "      <th>trend</th>\n",
       "      <th>predictions</th>\n",
       "      <th>price_prediction</th>\n",
       "      <th>error</th>\n",
       "      <th>%err</th>\n",
       "    </tr>\n",
       "    <tr>\n",
       "      <th>datesold</th>\n",
       "      <th></th>\n",
       "      <th></th>\n",
       "      <th></th>\n",
       "      <th></th>\n",
       "      <th></th>\n",
       "      <th></th>\n",
       "      <th></th>\n",
       "      <th></th>\n",
       "      <th></th>\n",
       "      <th></th>\n",
       "      <th></th>\n",
       "      <th></th>\n",
       "      <th></th>\n",
       "      <th></th>\n",
       "      <th></th>\n",
       "      <th></th>\n",
       "    </tr>\n",
       "  </thead>\n",
       "  <tbody>\n",
       "    <tr>\n",
       "      <th>2019-07-18</th>\n",
       "      <td>2606</td>\n",
       "      <td>285000</td>\n",
       "      <td>1</td>\n",
       "      <td>1</td>\n",
       "      <td>29</td>\n",
       "      <td>3</td>\n",
       "      <td>7</td>\n",
       "      <td>2</td>\n",
       "      <td>2019</td>\n",
       "      <td>12.560244</td>\n",
       "      <td>8924.064132</td>\n",
       "      <td>385393.333333</td>\n",
       "      <td>12.579145</td>\n",
       "      <td>290437.764794</td>\n",
       "      <td>5437.764794</td>\n",
       "      <td>0.019080</td>\n",
       "    </tr>\n",
       "    <tr>\n",
       "      <th>2019-07-18</th>\n",
       "      <td>2913</td>\n",
       "      <td>881000</td>\n",
       "      <td>0</td>\n",
       "      <td>4</td>\n",
       "      <td>29</td>\n",
       "      <td>3</td>\n",
       "      <td>7</td>\n",
       "      <td>2</td>\n",
       "      <td>2019</td>\n",
       "      <td>13.688813</td>\n",
       "      <td>-2053.315611</td>\n",
       "      <td>662666.666667</td>\n",
       "      <td>13.545092</td>\n",
       "      <td>763060.340003</td>\n",
       "      <td>117939.659997</td>\n",
       "      <td>0.133870</td>\n",
       "    </tr>\n",
       "    <tr>\n",
       "      <th>2019-07-18</th>\n",
       "      <td>2607</td>\n",
       "      <td>745000</td>\n",
       "      <td>0</td>\n",
       "      <td>3</td>\n",
       "      <td>29</td>\n",
       "      <td>3</td>\n",
       "      <td>7</td>\n",
       "      <td>2</td>\n",
       "      <td>2019</td>\n",
       "      <td>13.521139</td>\n",
       "      <td>6434.071584</td>\n",
       "      <td>669233.333333</td>\n",
       "      <td>13.469258</td>\n",
       "      <td>707333.678445</td>\n",
       "      <td>37666.321555</td>\n",
       "      <td>0.050559</td>\n",
       "    </tr>\n",
       "    <tr>\n",
       "      <th>2019-07-18</th>\n",
       "      <td>2617</td>\n",
       "      <td>702500</td>\n",
       "      <td>0</td>\n",
       "      <td>4</td>\n",
       "      <td>29</td>\n",
       "      <td>3</td>\n",
       "      <td>7</td>\n",
       "      <td>2</td>\n",
       "      <td>2019</td>\n",
       "      <td>13.462401</td>\n",
       "      <td>-332.842203</td>\n",
       "      <td>679433.333333</td>\n",
       "      <td>13.504919</td>\n",
       "      <td>733013.435282</td>\n",
       "      <td>30513.435282</td>\n",
       "      <td>0.043435</td>\n",
       "    </tr>\n",
       "    <tr>\n",
       "      <th>2019-07-18</th>\n",
       "      <td>2612</td>\n",
       "      <td>280000</td>\n",
       "      <td>1</td>\n",
       "      <td>1</td>\n",
       "      <td>29</td>\n",
       "      <td>3</td>\n",
       "      <td>7</td>\n",
       "      <td>2</td>\n",
       "      <td>2019</td>\n",
       "      <td>12.542545</td>\n",
       "      <td>10937.852411</td>\n",
       "      <td>386043.333333</td>\n",
       "      <td>12.788380</td>\n",
       "      <td>358032.989442</td>\n",
       "      <td>78032.989442</td>\n",
       "      <td>0.278689</td>\n",
       "    </tr>\n",
       "  </tbody>\n",
       "</table>\n",
       "</div>"
      ],
      "text/plain": [
       "            postcode   price  propertyType  bedrooms  week  week_day  month  \\\n",
       "datesold                                                                      \n",
       "2019-07-18      2606  285000             1         1    29         3      7   \n",
       "2019-07-18      2913  881000             0         4    29         3      7   \n",
       "2019-07-18      2607  745000             0         3    29         3      7   \n",
       "2019-07-18      2617  702500             0         4    29         3      7   \n",
       "2019-07-18      2612  280000             1         1    29         3      7   \n",
       "\n",
       "            season  year  price_trans      seasonal          trend  \\\n",
       "datesold                                                             \n",
       "2019-07-18       2  2019    12.560244   8924.064132  385393.333333   \n",
       "2019-07-18       2  2019    13.688813  -2053.315611  662666.666667   \n",
       "2019-07-18       2  2019    13.521139   6434.071584  669233.333333   \n",
       "2019-07-18       2  2019    13.462401   -332.842203  679433.333333   \n",
       "2019-07-18       2  2019    12.542545  10937.852411  386043.333333   \n",
       "\n",
       "            predictions  price_prediction          error      %err  \n",
       "datesold                                                            \n",
       "2019-07-18    12.579145     290437.764794    5437.764794  0.019080  \n",
       "2019-07-18    13.545092     763060.340003  117939.659997  0.133870  \n",
       "2019-07-18    13.469258     707333.678445   37666.321555  0.050559  \n",
       "2019-07-18    13.504919     733013.435282   30513.435282  0.043435  \n",
       "2019-07-18    12.788380     358032.989442   78032.989442  0.278689  "
      ]
     },
     "execution_count": 195,
     "metadata": {},
     "output_type": "execute_result"
    }
   ],
   "source": [
    "test = raw_sales.iloc[last_value:].copy()\n",
    "test['predictions'] = rfr.predict(test_x)\n",
    "test['price_prediction'] = np.exp(test['predictions'])\n",
    "test['error'] = abs(test['price'] - test['price_prediction'])\n",
    "test['%err'] = abs((test['price_prediction'] / test['price']) - 1)\n",
    "test.head()"
   ]
  },
  {
   "cell_type": "code",
   "execution_count": 196,
   "metadata": {},
   "outputs": [
    {
     "data": {
      "text/plain": [
       "0.11211991981875283"
      ]
     },
     "execution_count": 196,
     "metadata": {},
     "output_type": "execute_result"
    }
   ],
   "source": [
    "test['%err'].mean()"
   ]
  },
  {
   "cell_type": "code",
   "execution_count": 197,
   "metadata": {},
   "outputs": [
    {
     "data": {
      "text/html": [
       "<div>\n",
       "<style scoped>\n",
       "    .dataframe tbody tr th:only-of-type {\n",
       "        vertical-align: middle;\n",
       "    }\n",
       "\n",
       "    .dataframe tbody tr th {\n",
       "        vertical-align: top;\n",
       "    }\n",
       "\n",
       "    .dataframe thead th {\n",
       "        text-align: right;\n",
       "    }\n",
       "</style>\n",
       "<table border=\"1\" class=\"dataframe\">\n",
       "  <thead>\n",
       "    <tr style=\"text-align: right;\">\n",
       "      <th></th>\n",
       "      <th>bedrooms</th>\n",
       "      <th>%err</th>\n",
       "    </tr>\n",
       "  </thead>\n",
       "  <tbody>\n",
       "    <tr>\n",
       "      <th>0</th>\n",
       "      <td>1</td>\n",
       "      <td>0.090436</td>\n",
       "    </tr>\n",
       "    <tr>\n",
       "      <th>1</th>\n",
       "      <td>2</td>\n",
       "      <td>0.117900</td>\n",
       "    </tr>\n",
       "    <tr>\n",
       "      <th>2</th>\n",
       "      <td>3</td>\n",
       "      <td>0.095950</td>\n",
       "    </tr>\n",
       "    <tr>\n",
       "      <th>3</th>\n",
       "      <td>4</td>\n",
       "      <td>0.107603</td>\n",
       "    </tr>\n",
       "    <tr>\n",
       "      <th>4</th>\n",
       "      <td>5</td>\n",
       "      <td>0.246993</td>\n",
       "    </tr>\n",
       "  </tbody>\n",
       "</table>\n",
       "</div>"
      ],
      "text/plain": [
       "   bedrooms      %err\n",
       "0         1  0.090436\n",
       "1         2  0.117900\n",
       "2         3  0.095950\n",
       "3         4  0.107603\n",
       "4         5  0.246993"
      ]
     },
     "execution_count": 197,
     "metadata": {},
     "output_type": "execute_result"
    }
   ],
   "source": [
    "test.groupby('bedrooms').mean()['%err'].reset_index()"
   ]
  },
  {
   "cell_type": "code",
   "execution_count": 198,
   "metadata": {},
   "outputs": [
    {
     "data": {
      "text/plain": [
       "<AxesSubplot: xlabel='datesold', ylabel='price'>"
      ]
     },
     "execution_count": 198,
     "metadata": {},
     "output_type": "execute_result"
    },
    {
     "data": {
      "image/png": "[encoded data removed]",
      "text/plain": [
       "<Figure size 1080x576 with 1 Axes>"
      ]
     },
     "metadata": {
      "needs_background": "light"
     },
     "output_type": "display_data"
    }
   ],
   "source": [
    "sns.lineplot(x = 'datesold', y = 'price', data = test.loc[test['bedrooms'] == 1])\n",
    "sns.lineplot(x = 'datesold', y = 'price_prediction', data = test.loc[test['bedrooms'] == 1])\n",
    "#plt.legend(['Real', 'Predicted'])"
   ]
  },
  {
   "cell_type": "code",
   "execution_count": 199,
   "metadata": {},
   "outputs": [
    {
     "data": {
      "text/plain": [
       "<AxesSubplot: xlabel='%err', ylabel='price'>"
      ]
     },
     "execution_count": 199,
     "metadata": {},
     "output_type": "execute_result"
    },
    {
     "data": {
      "image/png": "[encoded data removed]",
      "text/plain": [
       "<Figure size 1080x576 with 1 Axes>"
      ]
     },
     "metadata": {
      "needs_background": "light"
     },
     "output_type": "display_data"
    }
   ],
   "source": [
    "sns.scatterplot(x = '%err', y = 'price', data = test, hue = 'bedrooms')"
   ]
  },
  {
   "attachments": {},
   "cell_type": "markdown",
   "metadata": {},
   "source": [
    "## Hiperparameter tuning"
   ]
  },
  {
   "cell_type": "code",
   "execution_count": 200,
   "metadata": {},
   "outputs": [],
   "source": [
    "from sklearn.model_selection import RandomizedSearchCV\n",
    "from scipy.stats import uniform as sp_randFloat\n",
    "from scipy.stats import randint as sp_randInt"
   ]
  },
  {
   "cell_type": "code",
   "execution_count": 201,
   "metadata": {},
   "outputs": [],
   "source": [
    "parameters = {\n",
    "        'loss': ['squared_error', 'absolute_error'],\n",
    "        'learning_rate': sp_randFloat(),\n",
    "        'subsample'    : sp_randFloat(),\n",
    "        'n_estimators' : sp_randInt(100, 1000),\n",
    "        'max_depth'    : sp_randInt(4, 10),\n",
    "        \"n_estimators\":[5,50,250,500],\n",
    "        'min_impurity_decrease': sp_randFloat(),\n",
    "        'min_samples_leaf': sp_randInt(5,100),\n",
    "        'min_samples_split': sp_randInt(5,100)\n",
    "}"
   ]
  },
  {
   "cell_type": "code",
   "execution_count": 202,
   "metadata": {},
   "outputs": [
    {
     "name": "stdout",
     "output_type": "stream",
     "text": [
      " Results from Random Search \n",
      "\n",
      " The best estimator across ALL searched params:\n",
      " GradientBoostingRegressor(learning_rate=0.9369687910065423, max_depth=5,\n",
      "                          min_impurity_decrease=0.7181731747414732,\n",
      "                          min_samples_leaf=91, min_samples_split=9,\n",
      "                          n_estimators=50, subsample=0.9399038273902232)\n",
      "\n",
      " The best score across ALL searched params:\n",
      " 0.6427607659030532\n",
      "\n",
      " The best parameters across ALL searched params:\n",
      " {'learning_rate': 0.9369687910065423, 'loss': 'squared_error', 'max_depth': 5, 'min_impurity_decrease': 0.7181731747414732, 'min_samples_leaf': 91, 'min_samples_split': 9, 'n_estimators': 50, 'subsample': 0.9399038273902232}\n"
     ]
    }
   ],
   "source": [
    "randm_src = RandomizedSearchCV(estimator=rfr, param_distributions = parameters,\n",
    "                               cv = 2, n_iter = 10, n_jobs=-1)\n",
    "randm_src.fit(train_x, train_y)\n",
    "\n",
    "print(\" Results from Random Search \" )\n",
    "print(\"\\n The best estimator across ALL searched params:\\n\", randm_src.best_estimator_)\n",
    "print(\"\\n The best score across ALL searched params:\\n\", randm_src.best_score_)\n",
    "print(\"\\n The best parameters across ALL searched params:\\n\", randm_src.best_params_)"
   ]
  },
  {
   "cell_type": "code",
   "execution_count": 203,
   "metadata": {},
   "outputs": [
    {
     "data": {
      "text/plain": [
       "0.6570856852128106"
      ]
     },
     "execution_count": 203,
     "metadata": {},
     "output_type": "execute_result"
    }
   ],
   "source": [
    "randm_src.best_estimator_.score(test_x, test_y)"
   ]
  },
  {
   "attachments": {},
   "cell_type": "markdown",
   "metadata": {},
   "source": [
    "## Making point-wise predictions"
   ]
  },
  {
   "cell_type": "code",
   "execution_count": 204,
   "metadata": {},
   "outputs": [
    {
     "data": {
      "text/plain": [
       "postcode               2615.0\n",
       "propertyType              0.0\n",
       "bedrooms                  4.0\n",
       "week                     30.0\n",
       "week_day                  5.0\n",
       "month                     7.0\n",
       "season                    2.0\n",
       "year                   2019.0\n",
       "seasonal          -140.327806\n",
       "trend           538166.666667\n",
       "Name: 2019-07-27 00:00:00, dtype: Float64"
      ]
     },
     "execution_count": 204,
     "metadata": {},
     "output_type": "execute_result"
    }
   ],
   "source": [
    "test_x.iloc[-2]"
   ]
  },
  {
   "cell_type": "code",
   "execution_count": 205,
   "metadata": {},
   "outputs": [
    {
     "data": {
      "text/plain": [
       "865000.0000000002"
      ]
     },
     "execution_count": 205,
     "metadata": {},
     "output_type": "execute_result"
    }
   ],
   "source": [
    "np.exp(test_y.iloc[-1])"
   ]
  },
  {
   "cell_type": "code",
   "execution_count": 206,
   "metadata": {},
   "outputs": [
    {
     "name": "stderr",
     "output_type": "stream",
     "text": [
      "d:\\Anaconda\\envs\\teste\\lib\\site-packages\\sklearn\\base.py:450: UserWarning: X does not have valid feature names, but GradientBoostingRegressor was fitted with feature names\n",
      "  warnings.warn(\n"
     ]
    },
    {
     "data": {
      "text/plain": [
       "array([645049.03894348])"
      ]
     },
     "execution_count": 206,
     "metadata": {},
     "output_type": "execute_result"
    }
   ],
   "source": [
    "np.exp(rfr.predict(np.array([[2905,0,5,30,5,7,2,2019,-140.32,538166.67]])))"
   ]
  }
 ],
 "metadata": {
  "kernelspec": {
   "display_name": "Python 3 (ipykernel)",
   "language": "python",
   "name": "python3"
  },
  "language_info": {
   "codemirror_mode": {
    "name": "ipython",
    "version": 3
   },
   "file_extension": ".py",
   "mimetype": "text/x-python",
   "name": "python",
   "nbconvert_exporter": "python",
   "pygments_lexer": "ipython3",
   "version": "3.9.7"
  },
  "vscode": {
   "interpreter": {
    "hash": "1d837b323c6ce9aa7029450ef62e0f4a09705a988ce85c449a8b7105975c596a"
   }
  }
 },
 "nbformat": 4,
 "nbformat_minor": 2
}
